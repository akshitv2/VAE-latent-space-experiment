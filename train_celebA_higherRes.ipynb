{
 "cells": [
  {
   "cell_type": "code",
   "id": "initial_id",
   "metadata": {
    "collapsed": true,
    "ExecuteTime": {
     "end_time": "2025-08-22T12:41:26.083285Z",
     "start_time": "2025-08-22T12:41:23.819480Z"
    }
   },
   "source": [
    "from torchsummary import summary\n",
    "import torch\n",
    "import torch.nn as nn\n",
    "\n",
    "from models.Encoder import Encoder\n",
    "from models.ResModels import ResDown"
   ],
   "outputs": [],
   "execution_count": 1
  },
  {
   "metadata": {
    "ExecuteTime": {
     "end_time": "2025-08-22T12:23:51.474130Z",
     "start_time": "2025-08-22T12:23:51.440285Z"
    }
   },
   "cell_type": "code",
   "source": [
    "resDown = ResDown(3,512)\n",
    "summary(resDown, (3, 64, 64), device='cpu')"
   ],
   "id": "140f37cdaf05571e",
   "outputs": [
    {
     "name": "stdout",
     "output_type": "stream",
     "text": [
      "----------------------------------------------------------------\n",
      "        Layer (type)               Output Shape         Param #\n",
      "================================================================\n",
      "       BatchNorm2d-1            [-1, 3, 64, 64]               6\n",
      "               ELU-2            [-1, 3, 64, 64]               0\n",
      "            Conv2d-3          [-1, 768, 32, 32]          21,504\n",
      "       BatchNorm2d-4          [-1, 256, 32, 32]             512\n",
      "               ELU-5          [-1, 256, 32, 32]               0\n",
      "            Conv2d-6          [-1, 512, 32, 32]       1,180,160\n",
      "================================================================\n",
      "Total params: 1,202,182\n",
      "Trainable params: 1,202,182\n",
      "Non-trainable params: 0\n",
      "----------------------------------------------------------------\n",
      "Input size (MB): 0.05\n",
      "Forward/backward pass size (MB): 14.19\n",
      "Params size (MB): 4.59\n",
      "Estimated Total Size (MB): 18.82\n",
      "----------------------------------------------------------------\n"
     ]
    }
   ],
   "execution_count": 17
  },
  {
   "metadata": {
    "ExecuteTime": {
     "end_time": "2025-08-22T12:32:55.392964Z",
     "start_time": "2025-08-22T12:32:55.354291Z"
    }
   },
   "cell_type": "code",
   "source": [
    "encoder = Encoder()\n",
    "summary(encoder, (3, 64, 64), device='cpu')"
   ],
   "id": "625b45cffbecf2c0",
   "outputs": [
    {
     "name": "stdout",
     "output_type": "stream",
     "text": [
      "----------------------------------------------------------------\n",
      "        Layer (type)               Output Shape         Param #\n",
      "================================================================\n",
      "       BatchNorm2d-1            [-1, 3, 64, 64]               6\n",
      "               ELU-2            [-1, 3, 64, 64]               0\n",
      "            Conv2d-3           [-1, 96, 32, 32]           2,688\n",
      "       BatchNorm2d-4           [-1, 32, 32, 32]              64\n",
      "               ELU-5           [-1, 32, 32, 32]               0\n",
      "            Conv2d-6           [-1, 64, 32, 32]          18,496\n",
      "           ResDown-7           [-1, 64, 32, 32]               0\n",
      "       BatchNorm2d-8           [-1, 64, 32, 32]             128\n",
      "               ELU-9           [-1, 64, 32, 32]               0\n",
      "           Conv2d-10          [-1, 192, 16, 16]         110,784\n",
      "      BatchNorm2d-11           [-1, 64, 16, 16]             128\n",
      "              ELU-12           [-1, 64, 16, 16]               0\n",
      "           Conv2d-13          [-1, 128, 16, 16]          73,856\n",
      "          ResDown-14          [-1, 128, 16, 16]               0\n",
      "      BatchNorm2d-15          [-1, 128, 16, 16]             256\n",
      "              ELU-16          [-1, 128, 16, 16]               0\n",
      "           Conv2d-17            [-1, 384, 8, 8]         442,752\n",
      "      BatchNorm2d-18            [-1, 128, 8, 8]             256\n",
      "              ELU-19            [-1, 128, 8, 8]               0\n",
      "           Conv2d-20            [-1, 256, 8, 8]         295,168\n",
      "          ResDown-21            [-1, 256, 8, 8]               0\n",
      "      BatchNorm2d-22            [-1, 256, 8, 8]             512\n",
      "              ELU-23            [-1, 256, 8, 8]               0\n",
      "           Conv2d-24            [-1, 768, 4, 4]       1,770,240\n",
      "      BatchNorm2d-25            [-1, 256, 4, 4]             512\n",
      "              ELU-26            [-1, 256, 4, 4]               0\n",
      "           Conv2d-27            [-1, 512, 4, 4]       1,180,160\n",
      "          ResDown-28            [-1, 512, 4, 4]               0\n",
      "           Conv2d-29            [-1, 128, 4, 4]          65,664\n",
      "           Conv2d-30            [-1, 128, 4, 4]          65,664\n",
      "================================================================\n",
      "Total params: 4,027,334\n",
      "Trainable params: 4,027,334\n",
      "Non-trainable params: 0\n",
      "----------------------------------------------------------------\n",
      "Input size (MB): 0.05\n",
      "Forward/backward pass size (MB): 6.19\n",
      "Params size (MB): 15.36\n",
      "Estimated Total Size (MB): 21.60\n",
      "----------------------------------------------------------------\n"
     ]
    }
   ],
   "execution_count": 3
  },
  {
   "metadata": {
    "ExecuteTime": {
     "end_time": "2025-08-22T12:41:47.447012Z",
     "start_time": "2025-08-22T12:41:47.353415Z"
    }
   },
   "cell_type": "code",
   "source": [
    "from models.Decoder import Decoder\n",
    "from models.ResModels import ResUp\n",
    "\n",
    "decoder = Decoder()\n",
    "summary(decoder, (128, 4, 4), device='cpu')"
   ],
   "id": "a4af6b9f7ac247e3",
   "outputs": [
    {
     "name": "stdout",
     "output_type": "stream",
     "text": [
      "----------------------------------------------------------------\n",
      "        Layer (type)               Output Shape         Param #\n",
      "================================================================\n",
      "       BatchNorm2d-1            [-1, 128, 4, 4]             256\n",
      "               ELU-2            [-1, 128, 4, 4]               0\n",
      "          Upsample-3            [-1, 128, 8, 8]               0\n",
      "            Conv2d-4            [-1, 576, 8, 8]         664,128\n",
      "       BatchNorm2d-5             [-1, 64, 8, 8]             128\n",
      "               ELU-6             [-1, 64, 8, 8]               0\n",
      "            Conv2d-7            [-1, 512, 8, 8]         295,424\n",
      "             ResUp-8            [-1, 512, 8, 8]               0\n",
      "       BatchNorm2d-9            [-1, 512, 8, 8]           1,024\n",
      "              ELU-10            [-1, 512, 8, 8]               0\n",
      "         Upsample-11          [-1, 512, 16, 16]               0\n",
      "           Conv2d-12          [-1, 512, 16, 16]       2,359,808\n",
      "      BatchNorm2d-13          [-1, 256, 16, 16]             512\n",
      "              ELU-14          [-1, 256, 16, 16]               0\n",
      "           Conv2d-15          [-1, 256, 16, 16]         590,080\n",
      "            ResUp-16          [-1, 256, 16, 16]               0\n",
      "      BatchNorm2d-17          [-1, 256, 16, 16]             512\n",
      "              ELU-18          [-1, 256, 16, 16]               0\n",
      "         Upsample-19          [-1, 256, 32, 32]               0\n",
      "           Conv2d-20          [-1, 256, 32, 32]         590,080\n",
      "      BatchNorm2d-21          [-1, 128, 32, 32]             256\n",
      "              ELU-22          [-1, 128, 32, 32]               0\n",
      "           Conv2d-23          [-1, 128, 32, 32]         147,584\n",
      "            ResUp-24          [-1, 128, 32, 32]               0\n",
      "      BatchNorm2d-25          [-1, 128, 32, 32]             256\n",
      "              ELU-26          [-1, 128, 32, 32]               0\n",
      "         Upsample-27          [-1, 128, 64, 64]               0\n",
      "           Conv2d-28          [-1, 128, 64, 64]         147,584\n",
      "      BatchNorm2d-29           [-1, 64, 64, 64]             128\n",
      "              ELU-30           [-1, 64, 64, 64]               0\n",
      "           Conv2d-31           [-1, 64, 64, 64]          36,928\n",
      "            ResUp-32           [-1, 64, 64, 64]               0\n",
      "           Conv2d-33            [-1, 3, 64, 64]           1,731\n",
      "          Sigmoid-34            [-1, 3, 64, 64]               0\n",
      "================================================================\n",
      "Total params: 4,836,419\n",
      "Trainable params: 4,836,419\n",
      "Non-trainable params: 0\n",
      "----------------------------------------------------------------\n",
      "Input size (MB): 0.01\n",
      "Forward/backward pass size (MB): 32.62\n",
      "Params size (MB): 18.45\n",
      "Estimated Total Size (MB): 51.08\n",
      "----------------------------------------------------------------\n"
     ]
    }
   ],
   "execution_count": 4
  }
 ],
 "metadata": {
  "kernelspec": {
   "display_name": "Python 3",
   "language": "python",
   "name": "python3"
  },
  "language_info": {
   "codemirror_mode": {
    "name": "ipython",
    "version": 2
   },
   "file_extension": ".py",
   "mimetype": "text/x-python",
   "name": "python",
   "nbconvert_exporter": "python",
   "pygments_lexer": "ipython2",
   "version": "2.7.6"
  }
 },
 "nbformat": 4,
 "nbformat_minor": 5
}
