{
 "cells": [
  {
   "cell_type": "code",
   "source": [
    "import torch\n",
    "from torch.amp import autocast, GradScalers\n",
    "from torch.utils.data import DataLoader\n",
    "from torchvision import datasets, transforms\n",
    "import os\n",
    "from tqdm import tqdm\n",
    "from experiments.Checkpointing import save_checkpoint\n",
    "from models.VAE import VAE\n",
    "from modules.Losses import VAEVggLoss\n",
    "from modules.SaveOutputs import save_reconstructions\n",
    "\n",
    "torch.backends.cudnn.benchmark = True\n",
    "torch.cuda.empty_cache()\n",
    "\n",
    "dataset_dir: str = \"./data/raw\"\n",
    "out_dir: str = \"./outputs/\"\n",
    "batch_size: int = 64\n",
    "latent_dim: int = 256\n",
    "checkpoint_dir = \"./experiments/checkpoints\"\n",
    "# epochs: int = 10\n",
    "lr: float = 3e-4\n",
    "beta: float = 0.5\n",
    "\n",
    "torch.manual_seed(0)\n",
    "device = torch.device(\"cuda\" if torch.cuda.is_available() else \"cpu\")\n",
    "\n",
    "transform = transforms.Compose([\n",
    "    transforms.Resize((64, 64)),  # resize to 224x224\n",
    "    transforms.ToTensor()  # convert to tensor & scale to [0,1]\n",
    "])\n",
    "\n",
    "dataset = datasets.ImageFolder(root=\"G:\\Temp\", transform=transform)\n",
    "train_test_split_var = 0.99\n",
    "train_dataset, val_dataset = torch.utils.data.random_split(dataset, [int(train_test_split_var*len(dataset)), len(dataset) - int(train_test_split_var*len(dataset))])\n",
    "train_loader = DataLoader(train_dataset, batch_size=batch_size, shuffle=True, num_workers=2, pin_memory=True)\n",
    "n_train = len(train_loader.dataset)\n",
    "\n",
    "print(\"Loaded datasets, number of samples: \", n_train)\n",
    "\n",
    "# Model & Optimizer\n",
    "scaler = GradScaler(device)\n",
    "model = VAE(latent_dim=latent_dim).to(device)\n",
    "optimizer = torch.optim.Adam(model.parameters(), lr=lr)\n",
    "vgg_loss = VAEVggLoss(recon_weight=10.0, perc_weight=0.001, kl_weight=1.0)\n",
    "\n",
    "current_epoch = 0\n",
    "# os.removedirs(out_dir)\n",
    "os.makedirs(out_dir, exist_ok=True)\n"
   ],
   "metadata": {
    "id": "aFhAS1nbE4rr",
    "ExecuteTime": {
     "end_time": "2025-08-22T21:27:15.266563Z",
     "start_time": "2025-08-22T21:27:09.348469Z"
    }
   },
   "id": "aFhAS1nbE4rr",
   "outputs": [
    {
     "name": "stdout",
     "output_type": "stream",
     "text": [
      "Loaded datasets, number of samples:  200573\n"
     ]
    },
    {
     "name": "stderr",
     "output_type": "stream",
     "text": [
      "D:\\Software\\Conda\\envs\\Torch\\lib\\site-packages\\torchvision\\models\\_utils.py:208: UserWarning: The parameter 'pretrained' is deprecated since 0.13 and may be removed in the future, please use 'weights' instead.\n",
      "  warnings.warn(\n",
      "D:\\Software\\Conda\\envs\\Torch\\lib\\site-packages\\torchvision\\models\\_utils.py:223: UserWarning: Arguments other than a weight enum or `None` for 'weights' are deprecated since 0.13 and may be removed in the future. The current behavior is equivalent to passing `weights=VGG16_Weights.IMAGENET1K_V1`. You can also use `weights=VGG16_Weights.DEFAULT` to get the most up-to-date weights.\n",
      "  warnings.warn(msg)\n"
     ]
    }
   ],
   "execution_count": 1
  },
  {
   "metadata": {
    "ExecuteTime": {
     "end_time": "2025-08-22T21:27:15.297778Z",
     "start_time": "2025-08-22T21:27:15.278240Z"
    }
   },
   "cell_type": "code",
   "source": [
    "def trainWithParams(epochs, variant, loss_function):\n",
    "    print(\"Starting training... on variant {}...\".format(variant))\n",
    "    for epoch in tqdm(range(1, epochs + 1)):\n",
    "        model.train()\n",
    "        for batch_idx, (x, _) in enumerate(train_loader, start=1):\n",
    "            x = x.to(device, non_blocking=True)\n",
    "            optimizer.zero_grad(set_to_none=True)\n",
    "            logits, mean, logvar = model(x)\n",
    "            loss, l1_loss, perc_loss, kl_loss = loss_function(logits, x, mean, logvar)\n",
    "            scaler.scale(loss).backward()\n",
    "            scaler.step(optimizer)\n",
    "            scaler.update()\n",
    "        save_reconstructions(model=model, x=x, out_dir=out_dir, step = epoch, device=device, variant=variant)"
   ],
   "id": "b9863b2eb5e8516a",
   "outputs": [],
   "execution_count": 2
  },
  {
   "metadata": {
    "jupyter": {
     "is_executing": true
    },
    "ExecuteTime": {
     "end_time": "2025-08-23T04:51:55.302074400Z",
     "start_time": "2025-08-22T21:27:15.304290Z"
    }
   },
   "cell_type": "code",
   "source": [
    "train_for = 10\n",
    "\n",
    "trainWithParams(train_for, \"555M\", VAEVggLoss(recon_weight=1.0, perc_weight=1.0, kl_weight=1.0, recon_loss_function = \"mse\"))\n",
    "trainWithParams(train_for, \"555L\", VAEVggLoss(recon_weight=1.0, perc_weight=1.0, kl_weight=1.0, recon_loss_function = \"l1\"))\n",
    "trainWithParams(train_for, \"911M\", VAEVggLoss(recon_weight=10.0, perc_weight=0.001, kl_weight=0.001, recon_loss_function = \"mse\"))\n",
    "trainWithParams(train_for, \"911L\", VAEVggLoss(recon_weight=10.0, perc_weight=0.001, kl_weight=0.001, recon_loss_function = \"l1\"))\n",
    "trainWithParams(train_for, \"955M\", VAEVggLoss(recon_weight=10.0, perc_weight=0.1, kl_weight=0.1, recon_loss_function = \"mse\"))\n",
    "trainWithParams(train_for, \"955L\", VAEVggLoss(recon_weight=10.0, perc_weight=0.1, kl_weight=0.1, recon_loss_function = \"l1\"))\n",
    "trainWithParams(train_for, \"155M\", VAEVggLoss(recon_weight=0.01, perc_weight=1.0, kl_weight=1.0, recon_loss_function = \"mse\"))\n",
    "trainWithParams(train_for, \"155L\", VAEVggLoss(recon_weight=0.01, perc_weight=1.0, kl_weight=1.0, recon_loss_function = \"l1\"))\n",
    "trainWithParams(train_for, \"919M\", VAEVggLoss(recon_weight=10, perc_weight=0.001, kl_weight=10, recon_loss_function = \"mse\"))\n",
    "trainWithParams(train_for, \"919L\", VAEVggLoss(recon_weight=10, perc_weight=0.001, kl_weight=10, recon_loss_function = \"l1\"))\n",
    "trainWithParams(train_for, \"959M\", VAEVggLoss(recon_weight=10, perc_weight=0.1, kl_weight=10, recon_loss_function = \"mse\"))\n",
    "trainWithParams(train_for, \"959L\", VAEVggLoss(recon_weight=10, perc_weight=0.1, kl_weight=10, recon_loss_function = \"l1\"))"
   ],
   "id": "db73910c68d5f819",
   "outputs": [
    {
     "name": "stdout",
     "output_type": "stream",
     "text": [
      "Starting training... on variant 555M...\n"
     ]
    },
    {
     "name": "stderr",
     "output_type": "stream",
     "text": [
      "100%|██████████| 10/10 [57:30<00:00, 345.08s/it]\n"
     ]
    },
    {
     "name": "stdout",
     "output_type": "stream",
     "text": [
      "Starting training... on variant 555L...\n"
     ]
    },
    {
     "name": "stderr",
     "output_type": "stream",
     "text": [
      "100%|██████████| 10/10 [57:23<00:00, 344.39s/it]\n"
     ]
    },
    {
     "name": "stdout",
     "output_type": "stream",
     "text": [
      "Starting training... on variant 911M...\n"
     ]
    },
    {
     "name": "stderr",
     "output_type": "stream",
     "text": [
      "100%|██████████| 10/10 [1:04:46<00:00, 388.65s/it]\n"
     ]
    },
    {
     "name": "stdout",
     "output_type": "stream",
     "text": [
      "Starting training... on variant 911L...\n"
     ]
    },
    {
     "name": "stderr",
     "output_type": "stream",
     "text": [
      " 40%|████      | 4/10 [30:27<45:41, 456.91s/it]  "
     ]
    }
   ],
   "execution_count": null
  }
 ],
 "metadata": {
  "kernelspec": {
   "display_name": "Python 3",
   "language": "python",
   "name": "python3"
  },
  "language_info": {
   "codemirror_mode": {
    "name": "ipython",
    "version": 2
   },
   "file_extension": ".py",
   "mimetype": "text/x-python",
   "name": "python",
   "nbconvert_exporter": "python",
   "pygments_lexer": "ipython2",
   "version": "2.7.6"
  },
  "colab": {
   "provenance": []
  }
 },
 "nbformat": 4,
 "nbformat_minor": 5
}
