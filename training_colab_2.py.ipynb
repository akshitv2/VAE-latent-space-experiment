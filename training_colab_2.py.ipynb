{
 "cells": [
  {
   "metadata": {
    "ExecuteTime": {
     "end_time": "2025-08-23T11:28:44.227687Z",
     "start_time": "2025-08-23T11:28:44.211989Z"
    }
   },
   "cell_type": "code",
   "source": [
    "# from google.colab import drive\n",
    "# drive.mount('/content/drive')\n",
    "# !git clone https://github.com/akshitv2/VAE-latent-space-experiment.git\n",
    "# %cd VAE-latent-space-experiment\n",
    "# !git checkout celebA-ParamTweaking\n",
    "# !cp /content/drive/MyDrive/Datasets/img_align_celeba.zip /content/\n",
    "# !unzip /content/img_align_celeba.zip -d /content/dataset > /dev/null\n",
    "try:\n",
    "    import google.colab\n",
    "    running_in_colab = True\n",
    "except ImportError:\n",
    "    running_in_colab = False\n",
    "\n",
    "if running_in_colab:\n",
    "    dataset_dir = \"/content/dataset\"\n",
    "    out_dir: str = \"/content/drive/MyDrive/Temp/outputs\"\n",
    "    checkpoint_dir = \"/content/drive/MyDrive/Temp/checkpoints\"\n",
    "else:\n",
    "    dataset_dir = \"G:/Temp\"\n",
    "    out_dir: str = \"./outputs/\"\n",
    "    checkpoint_dir = \"./experiments/checkpoints\""
   ],
   "id": "394b36e86a25c140",
   "outputs": [],
   "execution_count": 1
  },
  {
   "metadata": {
    "ExecuteTime": {
     "end_time": "2025-08-23T11:28:49.234552Z",
     "start_time": "2025-08-23T11:28:44.227687Z"
    }
   },
   "cell_type": "code",
   "source": [
    "from torch import GradScaler\n",
    "import torch\n",
    "from torch.utils.data import DataLoader\n",
    "from torchvision import datasets, transforms\n",
    "import os\n",
    "from tqdm import tqdm\n",
    "from experiments.Checkpointing import save_checkpoint\n",
    "from models.VAE import VAE\n",
    "from modules.Losses import VAEVggLoss\n",
    "from modules.SaveOutputs import save_reconstructions\n",
    "\n",
    "torch.backends.cudnn.benchmark = True\n",
    "torch.cuda.empty_cache()\n",
    "\n",
    "dataset_dir: str = \"./data/raw\"\n",
    "out_dir: str = \"./outputs/\"\n",
    "batch_size: int = 64\n",
    "latent_dim: int = 256\n",
    "checkpoint_dir = \"./experiments/checkpoints\"\n",
    "# epochs: int = 10\n",
    "lr: float = 3e-4\n",
    "beta: float = 0.5\n",
    "\n",
    "torch.manual_seed(0)\n",
    "device = torch.device(\"cuda\" if torch.cuda.is_available() else \"cpu\")\n",
    "\n",
    "transform = transforms.Compose([\n",
    "    transforms.Resize((64, 64)),  # resize to 224x224\n",
    "    transforms.ToTensor()  # convert to tensor & scale to [0,1]\n",
    "])\n",
    "\n",
    "dataset = datasets.ImageFolder(root=\"G:\\Temp\", transform=transform)\n",
    "train_test_split_var = 0.99\n",
    "train_dataset, val_dataset = torch.utils.data.random_split(dataset, [int(train_test_split_var*len(dataset)), len(dataset) - int(train_test_split_var*len(dataset))])\n",
    "train_loader = DataLoader(train_dataset, batch_size=batch_size, shuffle=True, num_workers=2, pin_memory=True)\n",
    "n_train = len(train_loader.dataset)\n",
    "print(\"Loaded datasets, number of samples: \", n_train)\n",
    "\n",
    "# Model & Optimizer\n",
    "scaler = GradScaler(device)\n",
    "model = VAE(latent_dim=latent_dim).to(device)\n",
    "optimizer = torch.optim.Adam(model.parameters(), lr=lr)\n",
    "\n",
    "current_epoch = 1\n",
    "os.makedirs(out_dir, exist_ok=True)"
   ],
   "id": "aFhAS1nbE4rr",
   "outputs": [
    {
     "name": "stdout",
     "output_type": "stream",
     "text": [
      "Loaded datasets, number of samples:  2026\n"
     ]
    }
   ],
   "execution_count": 2
  },
  {
   "metadata": {
    "jupyter": {
     "is_executing": true
    },
    "ExecuteTime": {
     "start_time": "2025-08-23T11:28:49.246567Z"
    }
   },
   "cell_type": "code",
   "source": [
    "epochs = 10\n",
    "vgg_loss = VAEVggLoss(recon_weight=0.01, perc_weight=0.1, kl_weight=0.01, recon_loss_function = \"mse\")\n",
    "for epoch in range(1, epochs + 1):\n",
    "    model.train()\n",
    "    running_total = running_recon = running_kld = running_perceptual =  0.0\n",
    "    progress_bar = tqdm(enumerate(train_loader, start=1), total=len(train_loader), desc=\"Training\")\n",
    "\n",
    "    for batch_idx, (x, _) in progress_bar:\n",
    "        x = x.to(device, non_blocking=True)\n",
    "        optimizer.zero_grad(set_to_none=True)\n",
    "        logits, mean, logvar = model(x)\n",
    "        loss, l1_loss, perc_loss, kl_loss = vgg_loss(logits, x, mean, logvar)\n",
    "        # loss, l1_loss, perc_loss, kl_loss = criterion(x_recon, x, mu, logvar)\n",
    "        scaler.scale(loss).backward()\n",
    "        scaler.step(optimizer)\n",
    "        scaler.update()\n",
    "        progress_bar.set_postfix(\n",
    "            loss=f\"{loss.item():.3f}\",\n",
    "            l1=f\"{l1_loss.item():.3f}\",\n",
    "            kld=f\"{kl_loss.item():.3f}\",\n",
    "            percep=f\"{perc_loss.item():.3f}\",\n",
    "\n",
    "        )\n",
    "        running_total += loss.item()\n",
    "        running_recon += l1_loss.item()\n",
    "        running_kld += kl_loss.item()\n",
    "        running_perceptual += perc_loss.item()\n",
    "    current_epoch += 1\n",
    "    print(\n",
    "        f\"Epoch {current_epoch:02d} | total: {running_total / n_train:.4f} | \"\n",
    "        f\"recon: {running_recon / n_train:.4f} | kld: {running_kld / n_train:.4f} | \"\n",
    "        f\"perceptual: {running_perceptual / n_train:.4f}\"\n",
    "    )\n",
    "    save_reconstructions(model=model, x=x, out_dir=out_dir, step = current_epoch, device=device, variant=\"\")\n",
    "    # save_reconstructions(model, x, out_dir, current_epoch, device)\n",
    "    if current_epoch % 100 == 0:\n",
    "        save_checkpoint(model, optimizer, current_epoch, checkpoint_dir)"
   ],
   "id": "f6f4708c3ac1f2ec",
   "outputs": [
    {
     "name": "stderr",
     "output_type": "stream",
     "text": [
      "D:\\Software\\Conda\\envs\\Torch\\lib\\site-packages\\torchvision\\models\\_utils.py:208: UserWarning: The parameter 'pretrained' is deprecated since 0.13 and may be removed in the future, please use 'weights' instead.\n",
      "  warnings.warn(\n",
      "D:\\Software\\Conda\\envs\\Torch\\lib\\site-packages\\torchvision\\models\\_utils.py:223: UserWarning: Arguments other than a weight enum or `None` for 'weights' are deprecated since 0.13 and may be removed in the future. The current behavior is equivalent to passing `weights=VGG16_Weights.IMAGENET1K_V1`. You can also use `weights=VGG16_Weights.DEFAULT` to get the most up-to-date weights.\n",
      "  warnings.warn(msg)\n",
      "Training: 100%|██████████| 32/32 [00:06<00:00,  5.00it/s, kld=5.750, l1=411.343, loss=421.448, percep=4.355] \n"
     ]
    },
    {
     "name": "stdout",
     "output_type": "stream",
     "text": [
      "Epoch 02 | total: 10.3730 | recon: 10.1987 | kld: 0.1103 | perceptual: 0.0640\n"
     ]
    },
    {
     "name": "stderr",
     "output_type": "stream",
     "text": [
      "Training: 100%|██████████| 32/32 [00:04<00:00,  7.58it/s, kld=13.657, l1=346.803, loss=364.804, percep=4.343]\n"
     ]
    },
    {
     "name": "stdout",
     "output_type": "stream",
     "text": [
      "Epoch 03 | total: 8.4164 | recon: 8.0828 | kld: 0.2687 | perceptual: 0.0649\n"
     ]
    },
    {
     "name": "stderr",
     "output_type": "stream",
     "text": [
      "Training: 100%|██████████| 32/32 [00:04<00:00,  7.90it/s, kld=20.494, l1=232.459, loss=257.274, percep=4.321]\n"
     ]
    },
    {
     "name": "stdout",
     "output_type": "stream",
     "text": [
      "Epoch 04 | total: 6.3663 | recon: 5.9684 | kld: 0.3309 | perceptual: 0.0670\n"
     ]
    },
    {
     "name": "stderr",
     "output_type": "stream",
     "text": [
      "Training: 100%|██████████| 32/32 [00:04<00:00,  7.93it/s, kld=17.994, l1=178.974, loss=201.061, percep=4.092]\n"
     ]
    },
    {
     "name": "stdout",
     "output_type": "stream",
     "text": [
      "Epoch 05 | total: 5.0149 | recon: 4.5190 | kld: 0.4300 | perceptual: 0.0659\n"
     ]
    },
    {
     "name": "stderr",
     "output_type": "stream",
     "text": [
      "Training: 100%|██████████| 32/32 [00:04<00:00,  7.67it/s, kld=23.089, l1=141.278, loss=168.236, percep=3.869]\n"
     ]
    },
    {
     "name": "stdout",
     "output_type": "stream",
     "text": [
      "Epoch 06 | total: 4.6159 | recon: 4.0743 | kld: 0.4769 | perceptual: 0.0647\n"
     ]
    },
    {
     "name": "stderr",
     "output_type": "stream",
     "text": [
      "Training: 100%|██████████| 32/32 [00:04<00:00,  7.69it/s, kld=20.017, l1=155.773, loss=179.761, percep=3.972]\n"
     ]
    },
    {
     "name": "stdout",
     "output_type": "stream",
     "text": [
      "Epoch 07 | total: 4.3462 | recon: 3.7598 | kld: 0.5224 | perceptual: 0.0639\n"
     ]
    },
    {
     "name": "stderr",
     "output_type": "stream",
     "text": [
      "Training: 100%|██████████| 32/32 [00:04<00:00,  7.75it/s, kld=22.619, l1=141.541, loss=168.156, percep=3.996]\n"
     ]
    },
    {
     "name": "stdout",
     "output_type": "stream",
     "text": [
      "Epoch 08 | total: 4.2152 | recon: 3.6072 | kld: 0.5449 | perceptual: 0.0631\n"
     ]
    },
    {
     "name": "stderr",
     "output_type": "stream",
     "text": [
      "Training: 100%|██████████| 32/32 [00:04<00:00,  7.76it/s, kld=23.244, l1=133.926, loss=161.141, percep=3.970]\n"
     ]
    },
    {
     "name": "stdout",
     "output_type": "stream",
     "text": [
      "Epoch 09 | total: 4.0334 | recon: 3.4134 | kld: 0.5577 | perceptual: 0.0623\n"
     ]
    }
   ],
   "execution_count": null
  }
 ],
 "metadata": {
  "kernelspec": {
   "display_name": "Python 3",
   "language": "python",
   "name": "python3"
  },
  "language_info": {
   "codemirror_mode": {
    "name": "ipython",
    "version": 2
   },
   "file_extension": ".py",
   "mimetype": "text/x-python",
   "name": "python",
   "nbconvert_exporter": "python",
   "pygments_lexer": "ipython2",
   "version": "2.7.6"
  },
  "colab": {
   "provenance": []
  }
 },
 "nbformat": 4,
 "nbformat_minor": 5
}
