{
 "cells": [
  {
   "cell_type": "code",
   "id": "initial_id",
   "metadata": {
    "collapsed": true,
    "ExecuteTime": {
     "end_time": "2025-08-19T20:47:00.982916Z",
     "start_time": "2025-08-19T20:47:00.976910Z"
    }
   },
   "source": [
    "import torch\n",
    "from experiments.ModelLoader import load_encoder_decoder\n",
    "import ipywidgets as widgets\n",
    "from IPython.display import display, clear_output\n",
    "import matplotlib.pyplot as plt\n",
    "import numpy as np"
   ],
   "outputs": [],
   "execution_count": 60
  },
  {
   "metadata": {
    "ExecuteTime": {
     "end_time": "2025-08-19T20:47:03.592469Z",
     "start_time": "2025-08-19T20:47:03.527145Z"
    }
   },
   "cell_type": "code",
   "source": [
    "checkpoint_path: str = \"./experiments/checkpoints/vae_checkpoint_epoch_10.pt\"\n",
    "encoder, decoder = load_encoder_decoder(checkpoint_path)\n"
   ],
   "id": "bca4073787e8f102",
   "outputs": [],
   "execution_count": 61
  },
  {
   "metadata": {
    "ExecuteTime": {
     "end_time": "2025-08-19T20:51:29.955191Z",
     "start_time": "2025-08-19T20:51:29.946131Z"
    }
   },
   "cell_type": "code",
   "source": "device = torch.device(\"cuda\" if torch.cuda.is_available() else \"cpu\")",
   "id": "4e2f930c7ee13e3",
   "outputs": [],
   "execution_count": 89
  },
  {
   "metadata": {
    "ExecuteTime": {
     "end_time": "2025-08-19T20:57:21.460515Z",
     "start_time": "2025-08-19T20:57:21.426548Z"
    }
   },
   "cell_type": "code",
   "source": [
    "latent_dim = 20\n",
    "sliders = []\n",
    "\n",
    "for i in range(latent_dim):\n",
    "    slider = widgets.FloatSlider(\n",
    "        value=0.0,\n",
    "        min=-3.0,\n",
    "        max=3.0,\n",
    "        step=0.1,\n",
    "        description=f'z{i}:',\n",
    "        continuous_update=True,\n",
    "        orientation='horizontal',\n",
    "        layout=widgets.Layout(width='400px')\n",
    "    )\n",
    "    sliders.append(slider)\n",
    "\n",
    "def update(change):\n",
    "    with out:\n",
    "        clear_output(wait=True)\n",
    "        # Example: modify image based on slider values\n",
    "        # modified_img = img * (slider1.value/100) + (slider2.value/100) - (slider3.value/100)\n",
    "        # model.eval()\n",
    "        decoder_inputs = torch.tensor([slider.value for slider in sliders]).to(device)\n",
    "        decoder_input = np.array([slider.value for slider in sliders])\n",
    "        decoder_input.reshape(4,5)\n",
    "        print(decoder_inputs)\n",
    "        decoder.eval()\n",
    "        with torch.no_grad():\n",
    "            logits = decoder(decoder_inputs)\n",
    "            x_gen = torch.sigmoid(logits).view(-1, 1, 28, 28).view(-1, 1, 28, 28).detach().squeeze().cpu().numpy()\n",
    "        plt.imshow(x_gen, cmap='gray')\n",
    "        plt.axis('off')\n",
    "        plt.show()\n",
    "\n",
    "for slider in sliders:\n",
    "    slider.observe(update, names='value')"
   ],
   "id": "2c0374784c9b0d85",
   "outputs": [],
   "execution_count": 112
  },
  {
   "metadata": {
    "ExecuteTime": {
     "end_time": "2025-08-19T20:57:22.677082Z",
     "start_time": "2025-08-19T20:57:22.649571Z"
    }
   },
   "cell_type": "code",
   "source": [
    "out = widgets.Output()\n",
    "ui = widgets.HBox([widgets.VBox(sliders), out])\n",
    "\n",
    "display(ui)"
   ],
   "id": "c9183fa4b704453a",
   "outputs": [
    {
     "data": {
      "text/plain": [
       "HBox(children=(VBox(children=(FloatSlider(value=0.0, description='z0:', layout=Layout(width='400px'), max=3.0,…"
      ],
      "application/vnd.jupyter.widget-view+json": {
       "version_major": 2,
       "version_minor": 0,
       "model_id": "6ba764b3df644758852970c101df4c2b"
      }
     },
     "metadata": {},
     "output_type": "display_data"
    }
   ],
   "execution_count": 113
  }
 ],
 "metadata": {
  "kernelspec": {
   "display_name": "Python 3",
   "language": "python",
   "name": "python3"
  },
  "language_info": {
   "codemirror_mode": {
    "name": "ipython",
    "version": 2
   },
   "file_extension": ".py",
   "mimetype": "text/x-python",
   "name": "python",
   "nbconvert_exporter": "python",
   "pygments_lexer": "ipython2",
   "version": "2.7.6"
  }
 },
 "nbformat": 4,
 "nbformat_minor": 5
}
