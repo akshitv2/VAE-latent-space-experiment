{
 "cells": [
  {
   "cell_type": "code",
   "id": "initial_id",
   "metadata": {
    "collapsed": true,
    "ExecuteTime": {
     "end_time": "2025-08-23T15:18:13.047709Z",
     "start_time": "2025-08-23T15:18:12.940703Z"
    }
   },
   "source": [
    "import torch\n",
    "from torchvision.utils import make_grid\n",
    "import matplotlib.pyplot as plt\n",
    "\n",
    "from experiments.ModelLoader import load_vae_model\n",
    "device = torch.device(\"cuda\" if torch.cuda.is_available() else \"cpu\")\n",
    "\n",
    "def showandSave(img_tensor, title=None, i_cur=1):\n",
    "    if img_tensor.dim() == 4:  # (B,C,H,W)\n",
    "        img = make_grid(img_tensor, nrow=10, normalize=True, value_range=(0,1))\n",
    "    else:  # (C,H,W)\n",
    "        img = img_tensor.detach()\n",
    "\n",
    "    # Convert (C,H,W) → (H,W,C)\n",
    "    img = img.permute(1, 2, 0).cpu()\n",
    "\n",
    "    # plt.imshow(img[:, :img.shape[1] // 2, :])\n",
    "    plt.figure(figsize=(64, 64))\n",
    "    plt.imshow(img)\n",
    "    if title: plt.title(title)\n",
    "    plt.axis(\"off\")\n",
    "    # plt.show()\n",
    "    plt.savefig(f\"G:\\Python\\VAE-latent-space-experiment\\outputs\\makegif\\my_image{i_cur:04}.png\", bbox_inches='tight', pad_inches=0)\n"
   ],
   "outputs": [
    {
     "name": "stdout",
     "output_type": "stream",
     "text": [
      "✅ GIF saved as G:\\Python\\VAE-latent-space-experiment\\outputs\\makegif01.gif\n"
     ]
    }
   ],
   "execution_count": 8
  },
  {
   "metadata": {},
   "cell_type": "code",
   "outputs": [],
   "execution_count": null,
   "source": [
    "model = load_vae_model(checkpoint_path=\"./experiments/checkpoints/vae_checkpoint_epoch_16.pt\", device=device, latent_dim=latent_dim)\n",
    "model.train()\n",
    "optimizer = torch.optim.Adam(model.parameters(), lr=lr)"
   ],
   "id": "fbf04e50b1a5f770"
  },
  {
   "metadata": {},
   "cell_type": "code",
   "outputs": [],
   "execution_count": null,
   "source": [
    "sample_mus = None\n",
    "sample_var = None\n",
    "for batch_idx, (x, _) in enumerate(test_loader, start=1):\n",
    "    model.encoder.eval()\n",
    "    model.eval()\n",
    "    x = x.to(device, non_blocking=True)\n",
    "    mu, logvar = model.encoder(x)\n",
    "    sample_mus = mu\n",
    "    sample_var = logvar\n",
    "    print(mu.shape)\n",
    "    # save_reconstructions(model=model, x=x, out_dir=out_dir, step = 16, device=device, variant=\"test\")\n",
    "    break\n",
    "sample_mus = sample_mus.detach()\n",
    "sample_var = sample_var.detach()"
   ],
   "id": "f18e0f5b3a95ddae"
  },
  {
   "metadata": {},
   "cell_type": "code",
   "outputs": [],
   "execution_count": null,
   "source": [
    "import random\n",
    "import torch\n",
    "\n",
    "# Number of interpolation steps\n",
    "num_steps = 7\n",
    "\n",
    "for _ in range(30):\n",
    "    # Pick two random indices\n",
    "    idx_start = random.randint(1, 30)\n",
    "    idx_end = random.randint(1, 30)\n",
    "\n",
    "    # Unique identifier for this interpolation\n",
    "    interpolation_id = idx_start * 100 + idx_end\n",
    "\n",
    "    # Get start and end latent vectors\n",
    "    latent_start = sample_mus[idx_start]\n",
    "    latent_end = sample_mus[idx_end]\n",
    "\n",
    "    # Initialize images with the starting latent\n",
    "    images = [latent_start.unsqueeze(0)]\n",
    "    print(latent_start.unsqueeze(0).shape)\n",
    "\n",
    "    # Interpolation loop\n",
    "    for step in range(num_steps + 1):\n",
    "        alpha = step / num_steps  # fraction between start and end\n",
    "        interpolated = (1 - alpha) * latent_start + alpha * latent_end\n",
    "        print(interpolated.unsqueeze(0).shape)\n",
    "        images.append(interpolated.unsqueeze(0))\n",
    "\n",
    "    # Add the final latent\n",
    "    images.append(latent_end.unsqueeze(0))\n",
    "\n",
    "    # Create batch\n",
    "    batch = torch.cat(images, dim=0)\n",
    "\n",
    "    # Decode and save results\n",
    "    showandSave(model.decoder(batch), i_cur=interpolation_id)\n"
   ],
   "id": "76bca28e853820e1"
  }
 ],
 "metadata": {
  "kernelspec": {
   "display_name": "Python 3",
   "language": "python",
   "name": "python3"
  },
  "language_info": {
   "codemirror_mode": {
    "name": "ipython",
    "version": 2
   },
   "file_extension": ".py",
   "mimetype": "text/x-python",
   "name": "python",
   "nbconvert_exporter": "python",
   "pygments_lexer": "ipython2",
   "version": "2.7.6"
  }
 },
 "nbformat": 4,
 "nbformat_minor": 5
}
