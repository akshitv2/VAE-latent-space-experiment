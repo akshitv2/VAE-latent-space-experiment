{
 "cells": [
  {
   "cell_type": "code",
   "id": "initial_id",
   "metadata": {
    "collapsed": true,
    "ExecuteTime": {
     "end_time": "2025-08-19T20:47:00.982916Z",
     "start_time": "2025-08-19T20:47:00.976910Z"
    }
   },
   "source": [
    "import torch\n",
    "from experiments.ModelLoader import load_encoder_decoder\n",
    "import ipywidgets as widgets\n",
    "from IPython.display import display, clear_output\n",
    "import matplotlib.pyplot as plt\n",
    "import numpy as np"
   ],
   "outputs": [],
   "execution_count": 60
  },
  {
   "metadata": {
    "ExecuteTime": {
     "end_time": "2025-08-20T13:52:41.695481Z",
     "start_time": "2025-08-20T13:52:35.946201Z"
    }
   },
   "cell_type": "code",
   "source": "!pip install gdown",
   "id": "23e24f15a0317f2f",
   "outputs": [
    {
     "name": "stdout",
     "output_type": "stream",
     "text": [
      "Collecting gdown\n",
      "  Using cached gdown-5.2.0-py3-none-any.whl.metadata (5.8 kB)\n",
      "Requirement already satisfied: beautifulsoup4 in d:\\software\\conda\\envs\\torch\\lib\\site-packages (from gdown) (4.13.4)\n",
      "Requirement already satisfied: filelock in d:\\software\\conda\\envs\\torch\\lib\\site-packages (from gdown) (3.13.1)\n",
      "Requirement already satisfied: requests[socks] in d:\\software\\conda\\envs\\torch\\lib\\site-packages (from gdown) (2.32.4)\n",
      "Requirement already satisfied: tqdm in d:\\software\\conda\\envs\\torch\\lib\\site-packages (from gdown) (4.67.1)\n",
      "Requirement already satisfied: soupsieve>1.2 in d:\\software\\conda\\envs\\torch\\lib\\site-packages (from beautifulsoup4->gdown) (2.5)\n",
      "Requirement already satisfied: typing-extensions>=4.0.0 in d:\\software\\conda\\envs\\torch\\lib\\site-packages (from beautifulsoup4->gdown) (4.12.2)\n",
      "Requirement already satisfied: charset_normalizer<4,>=2 in d:\\software\\conda\\envs\\torch\\lib\\site-packages (from requests[socks]->gdown) (3.3.2)\n",
      "Requirement already satisfied: idna<4,>=2.5 in d:\\software\\conda\\envs\\torch\\lib\\site-packages (from requests[socks]->gdown) (3.7)\n",
      "Requirement already satisfied: urllib3<3,>=1.21.1 in d:\\software\\conda\\envs\\torch\\lib\\site-packages (from requests[socks]->gdown) (2.5.0)\n",
      "Requirement already satisfied: certifi>=2017.4.17 in d:\\software\\conda\\envs\\torch\\lib\\site-packages (from requests[socks]->gdown) (2025.7.14)\n",
      "Requirement already satisfied: PySocks!=1.5.7,>=1.5.6 in d:\\software\\conda\\envs\\torch\\lib\\site-packages (from requests[socks]->gdown) (1.7.1)\n",
      "Requirement already satisfied: colorama in d:\\software\\conda\\envs\\torch\\lib\\site-packages (from tqdm->gdown) (0.4.6)\n",
      "Using cached gdown-5.2.0-py3-none-any.whl (18 kB)\n",
      "Installing collected packages: gdown\n",
      "Successfully installed gdown-5.2.0\n"
     ]
    }
   ],
   "execution_count": 1
  },
  {
   "metadata": {
    "ExecuteTime": {
     "end_time": "2025-08-19T20:47:03.592469Z",
     "start_time": "2025-08-19T20:47:03.527145Z"
    }
   },
   "cell_type": "code",
   "source": [
    "checkpoint_path: str = \"./experiments/checkpoints/vae_checkpoint_epoch_10.pt\"\n",
    "encoder, decoder = load_encoder_decoder(checkpoint_path)\n"
   ],
   "id": "bca4073787e8f102",
   "outputs": [],
   "execution_count": 61
  },
  {
   "metadata": {
    "ExecuteTime": {
     "end_time": "2025-08-19T20:51:29.955191Z",
     "start_time": "2025-08-19T20:51:29.946131Z"
    }
   },
   "cell_type": "code",
   "source": "device = torch.device(\"cuda\" if torch.cuda.is_available() else \"cpu\")",
   "id": "4e2f930c7ee13e3",
   "outputs": [],
   "execution_count": 89
  },
  {
   "metadata": {
    "ExecuteTime": {
     "end_time": "2025-08-19T20:57:21.460515Z",
     "start_time": "2025-08-19T20:57:21.426548Z"
    }
   },
   "cell_type": "code",
   "source": [
    "latent_dim = 20\n",
    "sliders = []\n",
    "\n",
    "for i in range(latent_dim):\n",
    "    slider = widgets.FloatSlider(\n",
    "        value=0.0,\n",
    "        min=-3.0,\n",
    "        max=3.0,\n",
    "        step=0.1,\n",
    "        description=f'z{i}:',\n",
    "        continuous_update=True,\n",
    "        orientation='horizontal',\n",
    "        layout=widgets.Layout(width='400px')\n",
    "    )\n",
    "    sliders.append(slider)\n",
    "\n",
    "def update(change):\n",
    "    with out:\n",
    "        clear_output(wait=True)\n",
    "        # Example: modify image based on slider values\n",
    "        # modified_img = img * (slider1.value/100) + (slider2.value/100) - (slider3.value/100)\n",
    "        # model.eval()\n",
    "        decoder_inputs = torch.tensor([slider.value for slider in sliders]).to(device)\n",
    "        decoder_input = np.array([slider.value for slider in sliders])\n",
    "        decoder_input.reshape(4,5)\n",
    "        print(decoder_inputs)\n",
    "        decoder.eval()\n",
    "        with torch.no_grad():\n",
    "            logits = decoder(decoder_inputs)\n",
    "            x_gen = torch.sigmoid(logits).view(-1, 1, 28, 28).view(-1, 1, 28, 28).detach().squeeze().cpu().numpy()\n",
    "        plt.imshow(x_gen, cmap='gray')\n",
    "        plt.axis('off')\n",
    "        plt.show()\n",
    "\n",
    "for slider in sliders:\n",
    "    slider.observe(update, names='value')"
   ],
   "id": "2c0374784c9b0d85",
   "outputs": [],
   "execution_count": 112
  },
  {
   "metadata": {
    "ExecuteTime": {
     "end_time": "2025-08-19T20:57:22.677082Z",
     "start_time": "2025-08-19T20:57:22.649571Z"
    }
   },
   "cell_type": "code",
   "source": [
    "out = widgets.Output()\n",
    "ui = widgets.HBox([widgets.VBox(sliders), out])\n",
    "\n",
    "display(ui)"
   ],
   "id": "c9183fa4b704453a",
   "outputs": [
    {
     "data": {
      "text/plain": [
       "HBox(children=(VBox(children=(FloatSlider(value=0.0, description='z0:', layout=Layout(width='400px'), max=3.0,…"
      ],
      "application/vnd.jupyter.widget-view+json": {
       "version_major": 2,
       "version_minor": 0,
       "model_id": "6ba764b3df644758852970c101df4c2b"
      }
     },
     "metadata": {},
     "output_type": "display_data"
    }
   ],
   "execution_count": 113
  }
 ],
 "metadata": {
  "kernelspec": {
   "display_name": "Python 3",
   "language": "python",
   "name": "python3"
  },
  "language_info": {
   "codemirror_mode": {
    "name": "ipython",
    "version": 2
   },
   "file_extension": ".py",
   "mimetype": "text/x-python",
   "name": "python",
   "nbconvert_exporter": "python",
   "pygments_lexer": "ipython2",
   "version": "2.7.6"
  }
 },
 "nbformat": 4,
 "nbformat_minor": 5
}
