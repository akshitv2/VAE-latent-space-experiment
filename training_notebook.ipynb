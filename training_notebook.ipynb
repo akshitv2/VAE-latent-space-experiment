{
 "cells": [
  {
   "metadata": {
    "ExecuteTime": {
     "end_time": "2025-08-23T16:20:42.326139Z",
     "start_time": "2025-08-23T16:20:39.777101Z"
    }
   },
   "cell_type": "code",
   "source": [
    "from experiments.ModelLoader import load_vae_model\n",
    "\n",
    "# from google.colab import drive\n",
    "# drive.mount('/content/drive')\n",
    "# !git clone https://github.com/akshitv2/VAE-latent-space-experiment.git\n",
    "# %cd VAE-latent-space-experiment\n",
    "# !git checkout celebA-ParamTweaking\n",
    "# !cp /content/drive/MyDrive/Datasets/img_align_celeba.zip /content/\n",
    "# !unzip /content/img_align_celeba.zip -d /content/dataset > /dev/null\n",
    "try:\n",
    "    import google.colab\n",
    "    running_in_colab = True\n",
    "except ImportError:\n",
    "    running_in_colab = False\n",
    "\n",
    "if running_in_colab:\n",
    "    dataset_dir = \"/content/dataset\"\n",
    "    out_dir: str = \"/content/drive/MyDrive/Temp/outputs\"\n",
    "    checkpoint_dir = \"/content/drive/MyDrive/Temp/checkpoints\"\n",
    "else:\n",
    "    dataset_dir = \"G:/Temp\"\n",
    "    out_dir: str = \"./outputs/\"\n",
    "    checkpoint_dir = \"./experiments/checkpoints\""
   ],
   "id": "394b36e86a25c140",
   "outputs": [],
   "execution_count": 1
  },
  {
   "metadata": {
    "ExecuteTime": {
     "end_time": "2025-08-23T16:20:45.212468Z",
     "start_time": "2025-08-23T16:20:42.326139Z"
    }
   },
   "cell_type": "code",
   "source": [
    "from torch import GradScaler\n",
    "import torch\n",
    "from torch.utils.data import DataLoader\n",
    "from torchvision import datasets, transforms\n",
    "import os\n",
    "from tqdm import tqdm\n",
    "from experiments.Checkpointing import save_checkpoint\n",
    "from models.VAE import VAE\n",
    "from modules.Losses import VAEVggLoss\n",
    "from modules.SaveOutputs import save_reconstructions\n",
    "\n",
    "torch.backends.cudnn.benchmark = True\n",
    "torch.cuda.empty_cache()\n",
    "\n",
    "dataset_dir: str = \"./data/raw\"\n",
    "out_dir: str = \"./outputs/\"\n",
    "batch_size: int = 64\n",
    "latent_dim: int = 256\n",
    "checkpoint_dir = \"./experiments/checkpoints\"\n",
    "# epochs: int = 10\n",
    "lr: float = 3e-4\n",
    "beta: float = 0.5\n",
    "\n",
    "current_epoch = 1\n",
    "os.makedirs(out_dir, exist_ok=True)"
   ],
   "id": "aFhAS1nbE4rr",
   "outputs": [
    {
     "name": "stdout",
     "output_type": "stream",
     "text": [
      "Loaded datasets, number of samples:  200573\n"
     ]
    }
   ],
   "execution_count": 2
  }
 ],
 "metadata": {
  "kernelspec": {
   "display_name": "Python 3",
   "language": "python",
   "name": "python3"
  },
  "language_info": {
   "codemirror_mode": {
    "name": "ipython",
    "version": 2
   },
   "file_extension": ".py",
   "mimetype": "text/x-python",
   "name": "python",
   "nbconvert_exporter": "python",
   "pygments_lexer": "ipython2",
   "version": "2.7.6"
  },
  "colab": {
   "provenance": []
  }
 },
 "nbformat": 4,
 "nbformat_minor": 5
}
