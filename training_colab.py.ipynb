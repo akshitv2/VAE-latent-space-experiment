{
  "cells": [
    {
      "cell_type": "code",
      "execution_count": 8,
      "id": "initial_id",
      "metadata": {
        "collapsed": true,
        "id": "initial_id",
        "outputId": "a8845cad-b878-4b72-eb7f-9ffa186b36da",
        "colab": {
          "base_uri": "https://localhost:8080/"
        }
      },
      "outputs": [
        {
          "output_type": "stream",
          "name": "stdout",
          "text": [
            "fatal: destination path 'VAE-latent-space-experiment' already exists and is not an empty directory.\n",
            "/content/VAE-latent-space-experiment\n"
          ]
        }
      ],
      "source": [
        "!git clone https://github.com/akshitv2/VAE-latent-space-experiment.git\n",
        "%cd /content/VAE-latent-space-experiment"
      ]
    },
    {
      "cell_type": "code",
      "source": [
        "import torch\n",
        "from torch.utils.data import DataLoader\n",
        "from torchvision import datasets, transforms\n",
        "import os\n",
        "\n",
        "from experiments.Checkpointing import save_checkpoint\n",
        "from models.VAE import VAE\n",
        "from modules.Losses import vae_loss\n",
        "from modules.SaveOutputs import save_reconstructions, save_samples"
      ],
      "metadata": {
        "id": "mC9bEgnzEc_t"
      },
      "id": "mC9bEgnzEc_t",
      "execution_count": 9,
      "outputs": []
    },
    {
      "cell_type": "code",
      "source": [
        "dataset_dir: str = \"./data/raw\"\n",
        "out_dir: str = \"./outputs/\"\n",
        "batch_size: int = 128\n",
        "latent_dim: int = 128\n",
        "checkpoint_dir=\"./experiments/checkpoints\"\n",
        "epochs: int = 10\n",
        "lr: float = 3e-4\n",
        "beta: float = 1.0"
      ],
      "metadata": {
        "id": "aFhAS1nbE4rr"
      },
      "id": "aFhAS1nbE4rr",
      "execution_count": 16,
      "outputs": []
    },
    {
      "cell_type": "code",
      "source": [
        "torch.manual_seed(0)\n",
        "device = torch.device(\"cuda\" if torch.cuda.is_available() else \"cpu\")\n",
        "\n",
        "transform = transforms.Compose([\n",
        "        transforms.Resize((224, 224)),  # resize to 224x224\n",
        "        transforms.ToTensor()  # convert to tensor & scale to [0,1]\n",
        "    ])\n",
        "\n",
        "train_ds = datasets.OxfordIIITPet(root=dataset_dir, split=\"trainval\", download=True, transform=transform)\n",
        "test_ds = datasets.OxfordIIITPet(root=dataset_dir, split=\"test\", download=True, transform=transform)\n",
        "\n",
        "train_loader = DataLoader(train_ds, batch_size=batch_size, shuffle=True, num_workers=2, pin_memory=True)\n",
        "test_loader = DataLoader(test_ds, batch_size=batch_size, shuffle=False, num_workers=2, pin_memory=True)"
      ],
      "metadata": {
        "id": "qRTVYUN2D7FY",
        "outputId": "ec36d7ee-a69d-402f-ac33-92bf3083caeb",
        "colab": {
          "base_uri": "https://localhost:8080/"
        }
      },
      "id": "qRTVYUN2D7FY",
      "execution_count": 12,
      "outputs": [
        {
          "output_type": "stream",
          "name": "stderr",
          "text": [
            "100%|██████████| 792M/792M [00:34<00:00, 23.1MB/s]\n",
            "100%|██████████| 19.2M/19.2M [00:01<00:00, 11.7MB/s]\n"
          ]
        }
      ]
    },
    {
      "cell_type": "code",
      "source": [
        "device\n",
        "print(\"Loaded datasets, number of samples: \", len(train_ds))\n",
        "\n",
        "    # Model & Optimizer\n",
        "model = VAE(latent_dim=latent_dim).to(device)\n",
        "optimizer = torch.optim.Adam(model.parameters(), lr=lr)\n",
        "\n",
        "global_step = 0\n",
        "os.makedirs(out_dir, exist_ok=True)"
      ],
      "metadata": {
        "id": "UeIfXjKLE85O",
        "outputId": "99e6fdf1-b5bf-4284-8bda-651d4662c0f1",
        "colab": {
          "base_uri": "https://localhost:8080/"
        }
      },
      "id": "UeIfXjKLE85O",
      "execution_count": 18,
      "outputs": [
        {
          "output_type": "stream",
          "name": "stdout",
          "text": [
            "Loaded datasets, number of samples:  3680\n"
          ]
        }
      ]
    },
    {
      "cell_type": "code",
      "source": [
        "train_mode = True"
      ],
      "metadata": {
        "id": "cs9tIvrLHBBj"
      },
      "id": "cs9tIvrLHBBj",
      "execution_count": 14,
      "outputs": []
    },
    {
      "cell_type": "code",
      "source": [
        "if train_mode:\n",
        "    for epoch in range(1, epochs + 1):\n",
        "        model.train()\n",
        "        running_total = 0.0\n",
        "        running_recon = 0.0\n",
        "        running_kld = 0.0\n",
        "\n",
        "        for batch_idx, (x, _) in enumerate(train_loader, start=1):\n",
        "            x = x.to(device)\n",
        "            optimizer.zero_grad(set_to_none=True)\n",
        "            logits, mean, logvar = model(x)\n",
        "            loss = vae_loss(logits, x, mean, logvar, beta=beta)\n",
        "            loss.total.backward()\n",
        "            optimizer.step()\n",
        "\n",
        "            running_total += loss.total.item()\n",
        "            running_recon += loss.recon.item()\n",
        "            running_kld += loss.kld.item()\n",
        "\n",
        "            # if global_step % 500 == 0:\n",
        "\n",
        "            # global_step += 1\n",
        "        save_reconstructions(model, (x.cpu(), None), out_dir, epoch, device)\n",
        "        n_train = len(train_loader.dataset)\n",
        "        print(\n",
        "            f\"Epoch {epoch:02d} | total: {running_total / n_train:.4f} | \"\n",
        "            f\"recon: {running_recon / n_train:.4f} | kld: {running_kld / n_train:.4f}\"\n",
        "        )\n",
        "\n",
        "        model.eval()\n",
        "        test_total = test_recon = test_kld = 0.0\n",
        "        with torch.no_grad():\n",
        "            for x, _ in test_loader:\n",
        "                x = x.to(device)\n",
        "                logits, mean, logvar = model(x)\n",
        "                loss = vae_loss(logits, x, mean, logvar, beta=beta)\n",
        "                test_total += loss.total.item()\n",
        "                test_recon += loss.recon.item()\n",
        "                test_kld += loss.kld.item()\n",
        "        n_test = len(test_loader.dataset)\n",
        "        print(\n",
        "            f\"  [val] total: {test_total / n_test:.4f} | recon: {test_recon / n_test:.4f} | kld: {test_kld / n_test:.4f}\"\n",
        "        )\n",
        "    save_checkpoint(model, optimizer, epoch, checkpoint_dir)"
      ],
      "metadata": {
        "id": "yPSTnR5YG9Yv",
        "outputId": "bb010b2c-2184-4927-8abb-d85728d9f44d",
        "colab": {
          "base_uri": "https://localhost:8080/"
        }
      },
      "id": "yPSTnR5YG9Yv",
      "execution_count": null,
      "outputs": [
        {
          "output_type": "stream",
          "name": "stderr",
          "text": [
            "/usr/local/lib/python3.12/dist-packages/torch/utils/data/dataloader.py:666: UserWarning: 'pin_memory' argument is set as true but no accelerator is found, then device pinned memory won't be used.\n",
            "  warnings.warn(warn_msg)\n"
          ]
        }
      ]
    }
  ],
  "metadata": {
    "kernelspec": {
      "display_name": "Python 3",
      "language": "python",
      "name": "python3"
    },
    "language_info": {
      "codemirror_mode": {
        "name": "ipython",
        "version": 2
      },
      "file_extension": ".py",
      "mimetype": "text/x-python",
      "name": "python",
      "nbconvert_exporter": "python",
      "pygments_lexer": "ipython2",
      "version": "2.7.6"
    },
    "colab": {
      "provenance": []
    }
  },
  "nbformat": 4,
  "nbformat_minor": 5
}