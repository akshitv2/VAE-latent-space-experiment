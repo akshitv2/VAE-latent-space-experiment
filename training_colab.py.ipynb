{
 "cells": [
  {
   "cell_type": "code",
   "execution_count": 8,
   "id": "initial_id",
   "metadata": {
    "collapsed": true,
    "id": "initial_id",
    "outputId": "a8845cad-b878-4b72-eb7f-9ffa186b36da",
    "colab": {
     "base_uri": "https://localhost:8080/"
    }
   },
   "outputs": [
    {
     "output_type": "stream",
     "name": "stdout",
     "text": [
      "fatal: destination path 'VAE-latent-space-experiment' already exists and is not an empty directory.\n",
      "/content/VAE-latent-space-experiment\n"
     ]
    }
   ],
   "source": [
    "# !git clone https://github.com/akshitv2/VAE-latent-space-experiment.git\n",
    "# %cd /content/VAE-latent-space-experiment"
   ]
  },
  {
   "cell_type": "code",
   "source": [
    "import torch\n",
    "from torch.utils.data import DataLoader\n",
    "from torchvision import datasets, transforms\n",
    "import os\n",
    "from tqdm import tqdm\n",
    "\n",
    "from experiments.Checkpointing import save_checkpoint\n",
    "from models.VAE import VAE\n",
    "from modules.Losses import vae_loss\n",
    "from modules.SaveOutputs import save_reconstructions, save_samples\n",
    "\n",
    "dataset_dir: str = \"./data/raw\"\n",
    "out_dir: str = \"./outputs/\"\n",
    "batch_size: int = 512\n",
    "latent_dim: int = 512\n",
    "checkpoint_dir = \"./experiments/checkpoints\"\n",
    "epochs: int = 10\n",
    "lr: float = 3e-4\n",
    "beta: float = 0.5\n",
    "\n",
    "torch.manual_seed(0)\n",
    "device = torch.device(\"cuda\" if torch.cuda.is_available() else \"cpu\")\n",
    "\n",
    "transform = transforms.Compose([\n",
    "    transforms.Resize((64, 64)),  # resize to 224x224\n",
    "    transforms.ToTensor()  # convert to tensor & scale to [0,1]\n",
    "])\n"
   ],
   "metadata": {
    "id": "aFhAS1nbE4rr",
    "ExecuteTime": {
     "end_time": "2025-08-21T19:23:09.976482Z",
     "start_time": "2025-08-21T19:23:09.937542Z"
    }
   },
   "id": "aFhAS1nbE4rr",
   "outputs": [],
   "execution_count": 3
  },
  {
   "metadata": {
    "ExecuteTime": {
     "end_time": "2025-08-21T19:42:17.539303Z",
     "start_time": "2025-08-21T19:42:16.713430Z"
    }
   },
   "cell_type": "code",
   "source": [
    "dataset = datasets.ImageFolder(root=\"G:\\Temp\", transform=transform)\n",
    "train_loader = DataLoader(dataset, batch_size=batch_size, shuffle=True, num_workers=2, pin_memory=True)\n",
    "\n",
    "print(\"Loaded datasets, number of samples: \", len(dataset))\n",
    "\n",
    "# Model & Optimizer\n",
    "model = VAE(latent_dim=latent_dim).to(device)\n",
    "optimizer = torch.optim.Adam(model.parameters(), lr=lr)\n",
    "\n",
    "\n",
    "global_step = 0\n",
    "os.makedirs(out_dir, exist_ok=True)"
   ],
   "id": "UeIfXjKLE85O",
   "outputs": [
    {
     "name": "stdout",
     "output_type": "stream",
     "text": [
      "Loaded datasets, number of samples:  202599\n"
     ]
    }
   ],
   "execution_count": 10
  },
  {
   "metadata": {
    "ExecuteTime": {
     "end_time": "2025-08-21T19:42:22.575819Z",
     "start_time": "2025-08-21T19:42:22.572604Z"
    }
   },
   "cell_type": "code",
   "source": [
    "train_mode = True\n",
    "current_epoch = 0\n",
    "epochs = 2\n",
    "beta = 0.001\n",
    "beta_anneal_factor = 1.1"
   ],
   "id": "cs9tIvrLHBBj",
   "outputs": [],
   "execution_count": 11
  },
  {
   "metadata": {
    "ExecuteTime": {
     "end_time": "2025-08-21T19:44:13.967977Z",
     "start_time": "2025-08-21T19:44:13.962959Z"
    }
   },
   "cell_type": "code",
   "source": "training_loss_tracker = []",
   "id": "ce067094955b4e9a",
   "outputs": [],
   "execution_count": 20
  },
  {
   "cell_type": "code",
   "source": [
    "epochs = 2000\n",
    "if train_mode:\n",
    "    for epoch in range(current_epoch + 1, current_epoch + epochs + 1):\n",
    "        model.train()\n",
    "        running_total = running_recon = running_kld = 0.0\n",
    "\n",
    "        for batch_idx, (x, _) in enumerate(tqdm(train_loader), start=1):\n",
    "            x = x.to(device)\n",
    "            optimizer.zero_grad(set_to_none=True)\n",
    "            logits, mean, logvar = model(x)\n",
    "            loss = vae_loss(logits, x, mean, logvar, beta=beta)\n",
    "            loss.total.backward()\n",
    "            optimizer.step()\n",
    "\n",
    "            running_total += loss.total.item()\n",
    "            running_recon += loss.recon.item()\n",
    "            running_kld += loss.kld.item()\n",
    "        current_epoch += 1\n",
    "        beta = min(0.8, beta * beta_anneal_factor)\n",
    "\n",
    "        save_reconstructions(model, x, out_dir, current_epoch, device)\n",
    "        n_train = len(train_loader.dataset)\n",
    "        print(\n",
    "            f\"Epoch {epoch:02d} | total: {running_total / n_train:.4f} | \"\n",
    "            f\"recon: {running_recon / n_train:.4f} | kld: {running_kld / n_train:.4f} | \"\n",
    "            f\"beta: {beta:.4f}\"\n",
    "        )\n",
    "        if(epoch % 10) == 0:\n",
    "            training_loss_tracker.append([running_total / n_train, running_recon / n_train, running_kld / n_train, beta])\n",
    "\n",
    "        if epoch % 100 == 0:\n",
    "            save_checkpoint(model, optimizer, epoch, checkpoint_dir)"
   ],
   "metadata": {
    "id": "yPSTnR5YG9Yv",
    "outputId": "bb010b2c-2184-4927-8abb-d85728d9f44d",
    "colab": {
     "base_uri": "https://localhost:8080/"
    },
    "jupyter": {
     "is_executing": true
    },
    "ExecuteTime": {
     "start_time": "2025-08-21T19:44:33.535300Z"
    }
   },
   "id": "yPSTnR5YG9Yv",
   "outputs": [
    {
     "name": "stderr",
     "output_type": "stream",
     "text": [
      "  0%|          | 0/396 [00:00<?, ?it/s]"
     ]
    }
   ],
   "execution_count": null
  }
 ],
 "metadata": {
  "kernelspec": {
   "display_name": "Python 3",
   "language": "python",
   "name": "python3"
  },
  "language_info": {
   "codemirror_mode": {
    "name": "ipython",
    "version": 2
   },
   "file_extension": ".py",
   "mimetype": "text/x-python",
   "name": "python",
   "nbconvert_exporter": "python",
   "pygments_lexer": "ipython2",
   "version": "2.7.6"
  },
  "colab": {
   "provenance": []
  }
 },
 "nbformat": 4,
 "nbformat_minor": 5
}
