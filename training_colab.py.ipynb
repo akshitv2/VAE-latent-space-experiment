{
 "cells": [
  {
   "cell_type": "code",
   "source": [
    "import torch\n",
    "from torch.amp import autocast, GradScaler\n",
    "from torch.utils.data import DataLoader\n",
    "from torchvision import datasets, transforms\n",
    "import os\n",
    "from tqdm import tqdm\n",
    "from experiments.Checkpointing import save_checkpoint\n",
    "from models.VAE import VAE\n",
    "from modules.Losses import VAEVggLoss\n",
    "from modules.SaveOutputs import save_reconstructions\n",
    "\n",
    "torch.backends.cudnn.benchmark = True\n",
    "torch.cuda.empty_cache()\n",
    "\n",
    "dataset_dir: str = \"./data/raw\"\n",
    "out_dir: str = \"./outputs/\"\n",
    "batch_size: int = 64\n",
    "latent_dim: int = 256\n",
    "checkpoint_dir = \"./experiments/checkpoints\"\n",
    "epochs: int = 10\n",
    "lr: float = 3e-4\n",
    "beta: float = 0.5\n",
    "\n",
    "torch.manual_seed(0)\n",
    "device = torch.device(\"cuda\" if torch.cuda.is_available() else \"cpu\")\n",
    "\n",
    "transform = transforms.Compose([\n",
    "    transforms.Resize((64, 64)),  # resize to 224x224\n",
    "    transforms.ToTensor()  # convert to tensor & scale to [0,1]\n",
    "])\n"
   ],
   "metadata": {
    "id": "aFhAS1nbE4rr",
    "ExecuteTime": {
     "end_time": "2025-08-22T20:04:08.821082Z",
     "start_time": "2025-08-22T20:04:04.241552Z"
    }
   },
   "id": "aFhAS1nbE4rr",
   "outputs": [],
   "execution_count": 1
  },
  {
   "metadata": {
    "ExecuteTime": {
     "end_time": "2025-08-22T20:04:09.540009Z",
     "start_time": "2025-08-22T20:04:08.827098Z"
    }
   },
   "cell_type": "code",
   "source": [
    "dataset = datasets.ImageFolder(root=\"G:\\Temp\", transform=transform)\n",
    "train_loader = DataLoader(dataset, batch_size=batch_size, shuffle=True, num_workers=2, pin_memory=True)\n",
    "\n",
    "print(\"Loaded datasets, number of samples: \", len(dataset))"
   ],
   "id": "b3770cdfeae14c96",
   "outputs": [
    {
     "name": "stdout",
     "output_type": "stream",
     "text": [
      "Loaded datasets, number of samples:  202599\n"
     ]
    }
   ],
   "execution_count": 2
  },
  {
   "metadata": {
    "ExecuteTime": {
     "end_time": "2025-08-22T20:04:10.410322Z",
     "start_time": "2025-08-22T20:04:09.557250Z"
    }
   },
   "cell_type": "code",
   "source": [
    "# Model & Optimizer\n",
    "scaler = GradScaler(device)\n",
    "model = VAE(latent_dim=latent_dim).to(device)\n",
    "optimizer = torch.optim.Adam(model.parameters(), lr=lr)\n",
    "vgg_loss = VAEVggLoss()\n",
    "\n",
    "current_epoch = 0\n",
    "os.makedirs(out_dir, exist_ok=True)"
   ],
   "id": "UeIfXjKLE85O",
   "outputs": [
    {
     "name": "stderr",
     "output_type": "stream",
     "text": [
      "D:\\Software\\Conda\\envs\\Torch\\lib\\site-packages\\torchvision\\models\\_utils.py:208: UserWarning: The parameter 'pretrained' is deprecated since 0.13 and may be removed in the future, please use 'weights' instead.\n",
      "  warnings.warn(\n",
      "D:\\Software\\Conda\\envs\\Torch\\lib\\site-packages\\torchvision\\models\\_utils.py:223: UserWarning: Arguments other than a weight enum or `None` for 'weights' are deprecated since 0.13 and may be removed in the future. The current behavior is equivalent to passing `weights=VGG16_Weights.IMAGENET1K_V1`. You can also use `weights=VGG16_Weights.DEFAULT` to get the most up-to-date weights.\n",
      "  warnings.warn(msg)\n"
     ]
    }
   ],
   "execution_count": 3
  },
  {
   "metadata": {
    "jupyter": {
     "is_executing": true
    },
    "ExecuteTime": {
     "start_time": "2025-08-22T20:04:12.298612Z"
    }
   },
   "cell_type": "code",
   "source": [
    "epochs = 200\n",
    "for epoch in range(current_epoch + 1, current_epoch + epochs + 1):\n",
    "    model.train()\n",
    "    running_total = running_recon = running_kld = running_perceptual =  0.0\n",
    "    progress_bar = tqdm(enumerate(train_loader, start=1), total=len(train_loader), desc=\"Training\")\n",
    "\n",
    "    for batch_idx, (x, _) in progress_bar:\n",
    "        x = x.to(device, non_blocking=True)\n",
    "        optimizer.zero_grad(set_to_none=True)\n",
    "        logits, mean, logvar = model(x)\n",
    "        loss, l1_loss, perc_loss, kl_loss = vgg_loss(logits, x, mean, logvar)\n",
    "        # loss, l1_loss, perc_loss, kl_loss = criterion(x_recon, x, mu, logvar)\n",
    "        scaler.scale(loss).backward()\n",
    "        scaler.step(optimizer)\n",
    "        scaler.update()\n",
    "        progress_bar.set_postfix(\n",
    "            loss=f\"{loss.item():.3f}\",\n",
    "            l1=f\"{l1_loss.item():.3f}\",\n",
    "            kld=f\"{kl_loss.item():.3f}\",\n",
    "            percep=f\"{perc_loss.item():.3f}\",\n",
    "\n",
    "        )\n",
    "        running_total += loss.item()\n",
    "        running_recon += l1_loss.item()\n",
    "        running_kld += kl_loss.item()\n",
    "        running_perceptual += perc_loss.item()\n",
    "    current_epoch += 1\n",
    "    print(\n",
    "        f\"Epoch {epoch:02d} | total: {running_total / n_train:.4f} | \"\n",
    "        f\"recon: {running_recon / n_train:.4f} | kld: {running_kld / n_train:.4f} | \"\n",
    "        f\"perceptual: {running_perceptual / n_train:.4f}\"\n",
    "    )\n",
    "\n",
    "    save_reconstructions(model, x, out_dir, current_epoch, device)\n",
    "    n_train = len(train_loader.dataset)\n",
    "\n",
    "        # print(\n",
    "        #      f\"Epoch {epoch:02d} | loss: {loss.item}\n",
    "        # print(\n",
    "        #     f\"Epoch {epoch:02d} | total: {running_total / n_train:.4f} | \"\n",
    "        #     f\"recon: {running_recon / n_train:.4f} | kld: {running_kld / n_train:.4f} | \"\n",
    "        #     f\"beta: {beta:.4f}\"\n",
    "        # )\n",
    "        # if(epoch % 10) == 0:\n",
    "        #     training_loss_tracker.append([running_total / n_train, running_recon / n_train, running_kld / n_train, beta])\n",
    "\n",
    "    if epoch % 100 == 0:\n",
    "        save_checkpoint(model, optimizer, epoch, checkpoint_dir)"
   ],
   "id": "yPSTnR5YG9Yv",
   "outputs": [
    {
     "name": "stderr",
     "output_type": "stream",
     "text": [
      "Training:   4%|▍         | 120/3166 [00:23<09:56,  5.11it/s, kld=0.670, l1=0.242, loss=3.758, percep=35.095]"
     ]
    }
   ],
   "execution_count": null
  }
 ],
 "metadata": {
  "kernelspec": {
   "display_name": "Python 3",
   "language": "python",
   "name": "python3"
  },
  "language_info": {
   "codemirror_mode": {
    "name": "ipython",
    "version": 2
   },
   "file_extension": ".py",
   "mimetype": "text/x-python",
   "name": "python",
   "nbconvert_exporter": "python",
   "pygments_lexer": "ipython2",
   "version": "2.7.6"
  },
  "colab": {
   "provenance": []
  }
 },
 "nbformat": 4,
 "nbformat_minor": 5
}
