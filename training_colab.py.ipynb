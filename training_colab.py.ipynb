{
 "cells": [
  {
   "cell_type": "code",
   "execution_count": 8,
   "id": "initial_id",
   "metadata": {
    "collapsed": true,
    "id": "initial_id",
    "outputId": "a8845cad-b878-4b72-eb7f-9ffa186b36da",
    "colab": {
     "base_uri": "https://localhost:8080/"
    }
   },
   "outputs": [
    {
     "output_type": "stream",
     "name": "stdout",
     "text": [
      "fatal: destination path 'VAE-latent-space-experiment' already exists and is not an empty directory.\n",
      "/content/VAE-latent-space-experiment\n"
     ]
    }
   ],
   "source": [
    "!git clone https://github.com/akshitv2/VAE-latent-space-experiment.git\n",
    "%cd /content/VAE-latent-space-experiment"
   ]
  },
  {
   "cell_type": "code",
   "source": "",
   "metadata": {
    "id": "mC9bEgnzEc_t",
    "ExecuteTime": {
     "end_time": "2025-08-21T14:07:32.590325Z",
     "start_time": "2025-08-21T14:07:28.309390Z"
    }
   },
   "id": "mC9bEgnzEc_t",
   "outputs": [],
   "execution_count": 1
  },
  {
   "cell_type": "code",
   "source": [
    "import torch\n",
    "from torch.utils.data import DataLoader\n",
    "from torchvision import datasets, transforms\n",
    "import os\n",
    "\n",
    "from experiments.Checkpointing import save_checkpoint\n",
    "from models.VAE import VAE\n",
    "from modules.Losses import vae_loss\n",
    "from modules.SaveOutputs import save_reconstructions, save_samples\n",
    "\n",
    "dataset_dir: str = \"./data/raw\"\n",
    "out_dir: str = \"./outputs/\"\n",
    "batch_size: int = 32\n",
    "latent_dim: int = 64\n",
    "checkpoint_dir=\"./experiments/checkpoints\"\n",
    "epochs: int = 10\n",
    "lr: float = 3e-4\n",
    "beta: float = 0.5\n",
    "\n",
    "torch.manual_seed(0)\n",
    "device = torch.device(\"cuda\" if torch.cuda.is_available() else \"cpu\")\n",
    "\n",
    "transform = transforms.Compose([\n",
    "        transforms.Resize((64, 64)),  # resize to 224x224\n",
    "        transforms.ToTensor()  # convert to tensor & scale to [0,1]\n",
    "    ])\n"
   ],
   "metadata": {
    "id": "aFhAS1nbE4rr",
    "ExecuteTime": {
     "end_time": "2025-08-21T14:21:05.158256Z",
     "start_time": "2025-08-21T14:21:05.127259Z"
    }
   },
   "id": "aFhAS1nbE4rr",
   "outputs": [],
   "execution_count": 5
  },
  {
   "metadata": {
    "ExecuteTime": {
     "end_time": "2025-08-21T14:23:30.356846Z",
     "start_time": "2025-08-21T14:23:29.657760Z"
    }
   },
   "cell_type": "code",
   "source": [
    "dataset = datasets.ImageFolder(root=\"G:\\Temp\", transform=transform)\n",
    "train_loader = DataLoader(dataset, batch_size=batch_size, shuffle=True, num_workers=2, pin_memory=True)"
   ],
   "id": "abfa7272b65fcf90",
   "outputs": [],
   "execution_count": 7
  },
  {
   "cell_type": "code",
   "source": [
    "print(\"Loaded datasets, number of samples: \", len(dataset))\n",
    "\n",
    "    # Model & Optimizer\n",
    "model = VAE(latent_dim=latent_dim).to(device)\n",
    "optimizer = torch.optim.Adam(model.parameters(), lr=lr)\n",
    "\n",
    "global_step = 0\n",
    "os.makedirs(out_dir, exist_ok=True)"
   ],
   "metadata": {
    "id": "UeIfXjKLE85O",
    "outputId": "99e6fdf1-b5bf-4284-8bda-651d4662c0f1",
    "colab": {
     "base_uri": "https://localhost:8080/"
    },
    "ExecuteTime": {
     "end_time": "2025-08-21T14:23:44.451523Z",
     "start_time": "2025-08-21T14:23:44.329363Z"
    }
   },
   "id": "UeIfXjKLE85O",
   "outputs": [
    {
     "name": "stdout",
     "output_type": "stream",
     "text": [
      "Loaded datasets, number of samples:  202599\n"
     ]
    }
   ],
   "execution_count": 8
  },
  {
   "cell_type": "code",
   "source": [
    "train_mode = True\n",
    "current_epoch = 0\n",
    "epochs = 10"
   ],
   "metadata": {
    "id": "cs9tIvrLHBBj",
    "ExecuteTime": {
     "end_time": "2025-08-21T14:23:51.962871Z",
     "start_time": "2025-08-21T14:23:51.942501Z"
    }
   },
   "id": "cs9tIvrLHBBj",
   "outputs": [],
   "execution_count": 9
  },
  {
   "metadata": {
    "ExecuteTime": {
     "end_time": "2025-08-21T14:49:36.616970Z",
     "start_time": "2025-08-21T14:49:36.609935Z"
    }
   },
   "cell_type": "code",
   "source": "epochs = 100",
   "id": "bcb99451ddaba5eb",
   "outputs": [],
   "execution_count": 11
  },
  {
   "cell_type": "code",
   "source": [
    "if train_mode:\n",
    "    for epoch in range(current_epoch + 1, current_epoch + epochs + 1):\n",
    "        model.train()\n",
    "        running_total = 0.0\n",
    "        running_recon = 0.0\n",
    "        running_kld = 0.0\n",
    "        current_epoch+=1\n",
    "\n",
    "        for batch_idx, (x, _) in enumerate(train_loader, start=1):\n",
    "            x = x.to(device)\n",
    "            optimizer.zero_grad(set_to_none=True)\n",
    "            logits, mean, logvar = model(x)\n",
    "            loss = vae_loss(logits, x, mean, logvar, beta=beta)\n",
    "            loss.total.backward()\n",
    "            optimizer.step()\n",
    "\n",
    "            running_total += loss.total.item()\n",
    "            running_recon += loss.recon.item()\n",
    "            running_kld += loss.kld.item()\n",
    "\n",
    "        save_reconstructions(model, (x.cpu(), None), out_dir, current_epoch, device)\n",
    "        n_train = len(train_loader.dataset)\n",
    "        print(\n",
    "            f\"Epoch {epoch:02d} | total: {running_total / n_train:.4f} | \"\n",
    "            f\"recon: {running_recon / n_train:.4f} | kld: {running_kld / n_train:.4f}\"\n",
    "        )\n",
    "\n",
    "        # model.eval()\n",
    "        # test_total = test_recon = test_kld = 0.0\n",
    "        # with torch.no_grad():\n",
    "        #     for x, _ in test_loader:\n",
    "        #         x = x.to(device)\n",
    "        #         logits, mean, logvar = model(x)\n",
    "        #         loss = vae_loss(logits, x, mean, logvar, beta=beta)\n",
    "        #         test_total += loss.total.item()\n",
    "        #         test_recon += loss.recon.item()\n",
    "        #         test_kld += loss.kld.item()\n",
    "        # n_test = len(test_loader.dataset)\n",
    "        # print(f\"  [val] total: {test_total / n_test:.4f} | recon: {test_recon / n_test:.4f} | kld: {test_kld / n_test:.4f}\")\n",
    "        if epoch % 10 == 0:\n",
    "            save_checkpoint(model, optimizer, epoch, checkpoint_dir)"
   ],
   "metadata": {
    "id": "yPSTnR5YG9Yv",
    "outputId": "bb010b2c-2184-4927-8abb-d85728d9f44d",
    "colab": {
     "base_uri": "https://localhost:8080/"
    },
    "jupyter": {
     "is_executing": true
    },
    "ExecuteTime": {
     "start_time": "2025-08-21T14:49:38.237824Z"
    }
   },
   "id": "yPSTnR5YG9Yv",
   "outputs": [],
   "execution_count": null
  }
 ],
 "metadata": {
  "kernelspec": {
   "display_name": "Python 3",
   "language": "python",
   "name": "python3"
  },
  "language_info": {
   "codemirror_mode": {
    "name": "ipython",
    "version": 2
   },
   "file_extension": ".py",
   "mimetype": "text/x-python",
   "name": "python",
   "nbconvert_exporter": "python",
   "pygments_lexer": "ipython2",
   "version": "2.7.6"
  },
  "colab": {
   "provenance": []
  }
 },
 "nbformat": 4,
 "nbformat_minor": 5
}
