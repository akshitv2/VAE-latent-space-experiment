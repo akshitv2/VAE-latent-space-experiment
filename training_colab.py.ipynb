{
 "cells": [
  {
   "cell_type": "code",
   "source": [
    "import torch\n",
    "from torch.utils.data import DataLoader, random_split\n",
    "from torchvision import datasets, transforms\n",
    "import os\n",
    "from tqdm import tqdm\n",
    "\n",
    "from experiments.Checkpointing import save_checkpoint\n",
    "from models.VAE import VAE\n",
    "from modules.SaveOutputs import save_reconstructions, save_samples\n",
    "from modules.Losses import VGGLoss, vae_loss\n",
    "\n",
    "dataset_dir: str = \"./data/raw\"\n",
    "out_dir: str = \"./outputs/\"\n",
    "batch_size: int = 64\n",
    "latent_dim: int = 128\n",
    "checkpoint_dir = \"./experiments/checkpoints\"\n",
    "\n",
    "\n",
    "torch.manual_seed(0)\n",
    "device = torch.device(\"cuda\" if torch.cuda.is_available() else \"cpu\")\n",
    "\n",
    "transform = transforms.Compose([\n",
    "    transforms.Resize((64, 64)),  # resize to 224x224\n",
    "    transforms.ToTensor()  # convert to tensor & scale to [0,1]\n",
    "])\n",
    "\n",
    "dataset = datasets.ImageFolder(root=\"G:\\Temp\", transform=transform)\n",
    "train_size = int(0.5 * len(dataset))\n",
    "test_size = len(dataset) - train_size\n",
    "train_dataset, test_dataset = random_split(dataset, [train_size, test_size], generator=torch.Generator().manual_seed(42))\n",
    "\n",
    "train_loader = DataLoader(train_dataset, batch_size=batch_size, shuffle=True, num_workers=4, pin_memory=True)\n",
    "test_loader  = DataLoader(test_dataset,  batch_size=batch_size, shuffle=False, num_workers=4, pin_memory=True)"
   ],
   "metadata": {
    "id": "aFhAS1nbE4rr",
    "ExecuteTime": {
     "end_time": "2025-08-22T14:44:41.744583Z",
     "start_time": "2025-08-22T14:44:36.818322Z"
    }
   },
   "id": "aFhAS1nbE4rr",
   "outputs": [],
   "execution_count": 1
  },
  {
   "metadata": {
    "ExecuteTime": {
     "end_time": "2025-08-22T14:44:42.586332Z",
     "start_time": "2025-08-22T14:44:41.750592Z"
    }
   },
   "cell_type": "code",
   "source": [
    "train_mode = True\n",
    "current_epoch = 1\n",
    "epochs: int = 10\n",
    "lr: float = 3e-4\n",
    "\n",
    "print(\"Loaded datasets, number of samples: \", len(dataset))\n",
    "\n",
    "# Model & Optimizer\n",
    "model = VAE(latent_dim=latent_dim).to(device)\n",
    "optimizer = torch.optim.Adam(model.parameters(), lr=lr)\n",
    "vgg_loss_fn = VGGLoss(device=device)\n",
    "\n",
    "global_step = 0\n",
    "os.makedirs(out_dir, exist_ok=True)"
   ],
   "id": "UeIfXjKLE85O",
   "outputs": [
    {
     "name": "stdout",
     "output_type": "stream",
     "text": [
      "Loaded datasets, number of samples:  202599\n"
     ]
    },
    {
     "name": "stderr",
     "output_type": "stream",
     "text": [
      "D:\\Software\\Conda\\envs\\Torch\\lib\\site-packages\\torchvision\\models\\_utils.py:208: UserWarning: The parameter 'pretrained' is deprecated since 0.13 and may be removed in the future, please use 'weights' instead.\n",
      "  warnings.warn(\n",
      "D:\\Software\\Conda\\envs\\Torch\\lib\\site-packages\\torchvision\\models\\_utils.py:223: UserWarning: Arguments other than a weight enum or `None` for 'weights' are deprecated since 0.13 and may be removed in the future. The current behavior is equivalent to passing `weights=VGG16_Weights.IMAGENET1K_V1`. You can also use `weights=VGG16_Weights.DEFAULT` to get the most up-to-date weights.\n",
      "  warnings.warn(msg)\n"
     ]
    }
   ],
   "execution_count": 2
  },
  {
   "metadata": {
    "ExecuteTime": {
     "end_time": "2025-08-22T14:48:32.170910Z",
     "start_time": "2025-08-22T14:47:43.585206Z"
    }
   },
   "cell_type": "code",
   "source": [
    "epochs = 50\n",
    "n_train = len(train_loader.dataset)\n",
    "n_test = len(test_loader.dataset)\n",
    "beta = 0.9\n",
    "gamma = 0.0001\n",
    "\n",
    "for epoch in range(current_epoch, current_epoch + epochs):\n",
    "    model.train()\n",
    "    running_total = running_recon = running_kld = running_perceptual = 0.0\n",
    "    beta = min(5, beta * 1.1)\n",
    "    gamma = min(5, beta * 1.1)\n",
    "\n",
    "    for batch_idx, (x, _) in enumerate(tqdm(train_loader), start=1):\n",
    "        x = x.to(device)\n",
    "        optimizer.zero_grad(set_to_none=True)\n",
    "        logits, mean, logvar = model(x)\n",
    "        loss = vae_loss(logits, x, mean, logvar, beta, gamma, vgg_loss_fn)\n",
    "        loss.total.backward()\n",
    "        optimizer.step()\n",
    "        running_total += loss.total.item()\n",
    "        running_recon += loss.recon.item()\n",
    "        running_kld += loss.kld.item()\n",
    "        running_perceptual += loss.perceptual.item()\n",
    "    print(\n",
    "            f\"Epoch {epoch:02d} | total: {running_total / n_train:.4f} | \"\n",
    "            f\"recon: {running_recon / n_train:.4f} | kld: {running_kld / n_train:.4f} | \"\n",
    "            f\"perceptual: {running_perceptual:.4f}\"\n",
    "        )\n",
    "\n",
    "    current_epoch += 1\n",
    "    save_reconstructions(model, x, out_dir, current_epoch, device)\n",
    "\n",
    "    model.eval()\n",
    "    test_total = test_recon = test_kld = test_perceptual = 0.0\n",
    "    with torch.no_grad():\n",
    "        for x, _ in test_loader:\n",
    "            x = x.to(device)\n",
    "            logits, mean, logvar = model(x)\n",
    "            loss = vae_loss(logits, x, mean, logvar, beta, gamma, vgg_loss_fn)\n",
    "            test_total += loss.total.item()\n",
    "            test_recon += loss.recon.item()\n",
    "            test_kld += loss.kld.item()\n",
    "            test_perceptual += loss.perceptual.item()\n",
    "        print(\n",
    "            f\"  [val] total: {test_total / n_test:.4f} | recon: {test_recon / n_test:.4f} | kld: {test_kld / n_test:.4f}\"\n",
    "        )\n",
    "\n",
    "    if epoch % 10 == 0:\n",
    "        save_checkpoint(model, optimizer, epoch, checkpoint_dir)"
   ],
   "id": "yPSTnR5YG9Yv",
   "outputs": [
    {
     "name": "stderr",
     "output_type": "stream",
     "text": [
      "  0%|          | 6/1583 [00:47<3:29:58,  7.99s/it] \n"
     ]
    },
    {
     "ename": "KeyboardInterrupt",
     "evalue": "",
     "output_type": "error",
     "traceback": [
      "\u001B[1;31m---------------------------------------------------------------------------\u001B[0m",
      "\u001B[1;31mKeyboardInterrupt\u001B[0m                         Traceback (most recent call last)",
      "Cell \u001B[1;32mIn[3], line 20\u001B[0m\n\u001B[0;32m     18\u001B[0m loss\u001B[38;5;241m.\u001B[39mtotal\u001B[38;5;241m.\u001B[39mbackward()\n\u001B[0;32m     19\u001B[0m optimizer\u001B[38;5;241m.\u001B[39mstep()\n\u001B[1;32m---> 20\u001B[0m running_total \u001B[38;5;241m+\u001B[39m\u001B[38;5;241m=\u001B[39m \u001B[43mloss\u001B[49m\u001B[38;5;241;43m.\u001B[39;49m\u001B[43mtotal\u001B[49m\u001B[38;5;241;43m.\u001B[39;49m\u001B[43mitem\u001B[49m\u001B[43m(\u001B[49m\u001B[43m)\u001B[49m\n\u001B[0;32m     21\u001B[0m running_recon \u001B[38;5;241m+\u001B[39m\u001B[38;5;241m=\u001B[39m loss\u001B[38;5;241m.\u001B[39mrecon\u001B[38;5;241m.\u001B[39mitem()\n\u001B[0;32m     22\u001B[0m running_kld \u001B[38;5;241m+\u001B[39m\u001B[38;5;241m=\u001B[39m loss\u001B[38;5;241m.\u001B[39mkld\u001B[38;5;241m.\u001B[39mitem()\n",
      "\u001B[1;31mKeyboardInterrupt\u001B[0m: "
     ]
    }
   ],
   "execution_count": 3
  }
 ],
 "metadata": {
  "kernelspec": {
   "display_name": "Python 3",
   "language": "python",
   "name": "python3"
  },
  "language_info": {
   "codemirror_mode": {
    "name": "ipython",
    "version": 2
   },
   "file_extension": ".py",
   "mimetype": "text/x-python",
   "name": "python",
   "nbconvert_exporter": "python",
   "pygments_lexer": "ipython2",
   "version": "2.7.6"
  },
  "colab": {
   "provenance": []
  }
 },
 "nbformat": 4,
 "nbformat_minor": 5
}
