{
 "cells": [
  {
   "cell_type": "code",
   "execution_count": 8,
   "id": "initial_id",
   "metadata": {
    "collapsed": true,
    "id": "initial_id",
    "outputId": "a8845cad-b878-4b72-eb7f-9ffa186b36da",
    "colab": {
     "base_uri": "https://localhost:8080/"
    }
   },
   "outputs": [
    {
     "output_type": "stream",
     "name": "stdout",
     "text": [
      "fatal: destination path 'VAE-latent-space-experiment' already exists and is not an empty directory.\n",
      "/content/VAE-latent-space-experiment\n"
     ]
    }
   ],
   "source": [
    "# !git clone https://github.com/akshitv2/VAE-latent-space-experiment.git\n",
    "# %cd /content/VAE-latent-space-experiment"
   ]
  },
  {
   "cell_type": "code",
   "source": [
    "import torch\n",
    "from torch.utils.data import DataLoader\n",
    "from torchvision import datasets, transforms\n",
    "import os\n",
    "from tqdm import tqdm\n",
    "\n",
    "from experiments.Checkpointing import save_checkpoint\n",
    "from models.VAE import VAE\n",
    "from modules.Losses import vae_loss\n",
    "from modules.SaveOutputs import save_reconstructions, save_samples\n",
    "\n",
    "dataset_dir: str = \"./data/raw\"\n",
    "out_dir: str = \"./outputs/\"\n",
    "batch_size: int = 64\n",
    "latent_dim: int = 512\n",
    "checkpoint_dir = \"./experiments/checkpoints\"\n",
    "epochs: int = 10\n",
    "lr: float = 3e-4\n",
    "beta: float = 0.5\n",
    "\n",
    "torch.manual_seed(0)\n",
    "device = torch.device(\"cuda\" if torch.cuda.is_available() else \"cpu\")\n",
    "\n",
    "transform = transforms.Compose([\n",
    "    transforms.Resize((64, 64)),  # resize to 224x224\n",
    "    transforms.ToTensor()  # convert to tensor & scale to [0,1]\n",
    "])\n"
   ],
   "metadata": {
    "id": "aFhAS1nbE4rr",
    "ExecuteTime": {
     "end_time": "2025-08-21T19:23:09.976482Z",
     "start_time": "2025-08-21T19:23:09.937542Z"
    }
   },
   "id": "aFhAS1nbE4rr",
   "outputs": [],
   "execution_count": 3
  },
  {
   "metadata": {
    "ExecuteTime": {
     "end_time": "2025-08-21T20:47:29.800307Z",
     "start_time": "2025-08-21T20:47:29.011084Z"
    }
   },
   "cell_type": "code",
   "source": [
    "dataset = datasets.ImageFolder(root=\"G:\\Temp\", transform=transform)\n",
    "train_loader = DataLoader(dataset, batch_size=batch_size, shuffle=True, num_workers=2, pin_memory=True)"
   ],
   "id": "b3770cdfeae14c96",
   "outputs": [],
   "execution_count": 23
  },
  {
   "metadata": {
    "ExecuteTime": {
     "end_time": "2025-08-21T19:42:17.539303Z",
     "start_time": "2025-08-21T19:42:16.713430Z"
    }
   },
   "cell_type": "code",
   "source": [
    "\n",
    "\n",
    "print(\"Loaded datasets, number of samples: \", len(dataset))\n",
    "\n",
    "# Model & Optimizer\n",
    "model = VAE(latent_dim=latent_dim).to(device)\n",
    "optimizer = torch.optim.Adam(model.parameters(), lr=lr)\n",
    "\n",
    "\n",
    "global_step = 0\n",
    "os.makedirs(out_dir, exist_ok=True)"
   ],
   "id": "UeIfXjKLE85O",
   "outputs": [
    {
     "name": "stdout",
     "output_type": "stream",
     "text": [
      "Loaded datasets, number of samples:  202599\n"
     ]
    }
   ],
   "execution_count": 10
  },
  {
   "metadata": {
    "ExecuteTime": {
     "end_time": "2025-08-21T19:42:22.575819Z",
     "start_time": "2025-08-21T19:42:22.572604Z"
    }
   },
   "cell_type": "code",
   "source": [
    "train_mode = True\n",
    "current_epoch = 0\n",
    "epochs = 2\n",
    "beta = 0.001\n",
    "beta_anneal_factor = 1.1"
   ],
   "id": "cs9tIvrLHBBj",
   "outputs": [],
   "execution_count": 11
  },
  {
   "metadata": {
    "ExecuteTime": {
     "end_time": "2025-08-21T19:44:13.967977Z",
     "start_time": "2025-08-21T19:44:13.962959Z"
    }
   },
   "cell_type": "code",
   "source": "training_loss_tracker = []",
   "id": "ce067094955b4e9a",
   "outputs": [],
   "execution_count": 20
  },
  {
   "metadata": {
    "ExecuteTime": {
     "end_time": "2025-08-21T21:15:38.355816Z",
     "start_time": "2025-08-21T21:15:37.694649Z"
    }
   },
   "cell_type": "code",
   "source": [
    "import torch\n",
    "import torch.nn as nn\n",
    "import torchvision.models as models\n",
    "import torch.nn.functional as F\n",
    "\n",
    "# -------------------------------\n",
    "# Perceptual loss using VGG16\n",
    "# -------------------------------\n",
    "class VGGPerceptualLoss(nn.Module):\n",
    "    def __init__(self, layer_ids=[3, 8, 15], device='cuda'):\n",
    "        super().__init__()\n",
    "        self.device = device\n",
    "        vgg = models.vgg16(pretrained=True).features.to(device)  # <-- move to device\n",
    "        self.layers = nn.ModuleList([vgg[:i+1] for i in layer_ids])\n",
    "        for param in vgg.parameters():\n",
    "            param.requires_grad = False\n",
    "\n",
    "    def forward(self, x, y):\n",
    "        # normalize to ImageNet stats\n",
    "        mean = torch.tensor([0.485, 0.456, 0.406], device=self.device).view(1,3,1,1)\n",
    "        std  = torch.tensor([0.229, 0.224, 0.225], device=self.device).view(1,3,1,1)\n",
    "        x_norm = (x - mean) / std\n",
    "        y_norm = (y - mean) / std\n",
    "\n",
    "        loss = 0\n",
    "        for layer in self.layers:\n",
    "            loss += F.mse_loss(layer(x_norm), layer(y_norm))\n",
    "        return loss\n",
    "\n",
    "# -------------------------------\n",
    "# VAE Loss combining L1 + Perceptual + KL\n",
    "# -------------------------------\n",
    "class VAEVggLoss(nn.Module):\n",
    "    def __init__(self, recon_weight=1.0, perc_weight=0.1, kl_weight=0.01):\n",
    "        super().__init__()\n",
    "        self.recon_weight = recon_weight\n",
    "        self.perc_weight = perc_weight\n",
    "        self.kl_weight = kl_weight\n",
    "        self.perc_loss = VGGPerceptualLoss()\n",
    "\n",
    "    def forward(self, x_recon, x, mu, logvar):\n",
    "        # L1 reconstruction loss\n",
    "        recon_loss = F.l1_loss(x_recon, x)\n",
    "\n",
    "        # Perceptual loss\n",
    "        perc_loss = self.perc_loss(x_recon, x)\n",
    "\n",
    "        # KL divergence\n",
    "        kl_loss = -0.5 * torch.sum(1 + logvar - mu.pow(2) - logvar.exp())\n",
    "        kl_loss = kl_loss / x.size(0)  # normalize by batch size\n",
    "\n",
    "        total_loss = self.recon_weight * recon_loss + \\\n",
    "                     self.perc_weight * perc_loss + \\\n",
    "                     self.kl_weight * kl_loss\n",
    "        return total_loss, recon_loss, perc_loss, kl_loss\n",
    "vgg_loss = VAEVggLoss()"
   ],
   "id": "d6e68f687052b0e8",
   "outputs": [],
   "execution_count": 29
  },
  {
   "metadata": {
    "jupyter": {
     "is_executing": true
    },
    "ExecuteTime": {
     "end_time": "2025-08-22T04:31:32.568065500Z",
     "start_time": "2025-08-21T21:20:47.332959Z"
    }
   },
   "cell_type": "code",
   "source": [
    "epochs = 200\n",
    "if train_mode:\n",
    "    for epoch in range(current_epoch + 1, current_epoch + epochs + 1):\n",
    "        model.train()\n",
    "        running_total = running_recon = running_kld = 0.0\n",
    "\n",
    "        for batch_idx, (x, _) in enumerate(tqdm(train_loader), start=1):\n",
    "            x = x.to(device)\n",
    "            optimizer.zero_grad(set_to_none=True)\n",
    "            logits, mean, logvar = model(x)\n",
    "            loss, l1_loss, perc_loss, kl_loss = vgg_loss(logits, x, mean, logvar)\n",
    "            # loss, l1_loss, perc_loss, kl_loss = criterion(x_recon, x, mu, logvar)\n",
    "            loss.backward()\n",
    "            optimizer.step()\n",
    "            if batch_idx % 3000 == 0:\n",
    "                print(f\"Epoch [{epoch+1}/{epochs}], Step [{epoch}/{len(train_loader)}], \"\n",
    "                  f\"Total Loss: {loss.item():.4f}, \"\n",
    "                  f\"L1: {l1_loss.item():.4f}, \"\n",
    "                  f\"Perceptual: {perc_loss.item():.4f}, \"\n",
    "                  f\"KL: {kl_loss.item():.4f}\")\n",
    "\n",
    "            # running_total += loss.total.item()\n",
    "            # running_recon += loss.recon.item()\n",
    "            # running_kld += loss.kld.item()\n",
    "        current_epoch += 1\n",
    "        # beta = min(0.8, beta * beta_anneal_factor)\n",
    "\n",
    "        save_reconstructions(model, x, out_dir, current_epoch, device)\n",
    "        n_train = len(train_loader.dataset)\n",
    "\n",
    "        # print(\n",
    "        #      f\"Epoch {epoch:02d} | loss: {loss.item}\n",
    "        # print(\n",
    "        #     f\"Epoch {epoch:02d} | total: {running_total / n_train:.4f} | \"\n",
    "        #     f\"recon: {running_recon / n_train:.4f} | kld: {running_kld / n_train:.4f} | \"\n",
    "        #     f\"beta: {beta:.4f}\"\n",
    "        # )\n",
    "        # if(epoch % 10) == 0:\n",
    "        #     training_loss_tracker.append([running_total / n_train, running_recon / n_train, running_kld / n_train, beta])\n",
    "\n",
    "        if epoch % 100 == 0:\n",
    "            save_checkpoint(model, optimizer, epoch, checkpoint_dir)"
   ],
   "id": "yPSTnR5YG9Yv",
   "outputs": [
    {
     "name": "stderr",
     "output_type": "stream",
     "text": [
      " 95%|█████████▍| 3002/3166 [06:25<00:20,  8.11it/s]"
     ]
    },
    {
     "name": "stdout",
     "output_type": "stream",
     "text": [
      "Epoch [48/200], Step [47/3166], Total Loss: 3.7064, L1: 0.0987, Perceptual: 27.6040, KL: 84.7289\n"
     ]
    },
    {
     "name": "stderr",
     "output_type": "stream",
     "text": [
      "100%|██████████| 3166/3166 [06:47<00:00,  7.76it/s]\n",
      " 95%|█████████▍| 3002/3166 [06:39<00:20,  8.09it/s]"
     ]
    },
    {
     "name": "stdout",
     "output_type": "stream",
     "text": [
      "Epoch [49/200], Step [48/3166], Total Loss: 3.5058, L1: 0.1069, Perceptual: 27.5072, KL: 64.8140\n"
     ]
    },
    {
     "name": "stderr",
     "output_type": "stream",
     "text": [
      "100%|██████████| 3166/3166 [07:01<00:00,  7.52it/s]\n",
      " 95%|█████████▍| 3002/3166 [06:41<00:20,  8.07it/s]"
     ]
    },
    {
     "name": "stdout",
     "output_type": "stream",
     "text": [
      "Epoch [50/200], Step [49/3166], Total Loss: 3.5882, L1: 0.1137, Perceptual: 29.1536, KL: 55.9137\n"
     ]
    },
    {
     "name": "stderr",
     "output_type": "stream",
     "text": [
      "100%|██████████| 3166/3166 [07:03<00:00,  7.48it/s]\n",
      " 95%|█████████▍| 3002/3166 [06:43<00:20,  8.03it/s]"
     ]
    },
    {
     "name": "stdout",
     "output_type": "stream",
     "text": [
      "Epoch [51/200], Step [50/3166], Total Loss: 3.3575, L1: 0.1116, Perceptual: 27.9086, KL: 45.4949\n"
     ]
    },
    {
     "name": "stderr",
     "output_type": "stream",
     "text": [
      "100%|██████████| 3166/3166 [07:05<00:00,  7.44it/s]\n",
      " 95%|█████████▍| 3002/3166 [06:42<00:20,  8.11it/s]"
     ]
    },
    {
     "name": "stdout",
     "output_type": "stream",
     "text": [
      "Epoch [52/200], Step [51/3166], Total Loss: 2.9288, L1: 0.1041, Perceptual: 24.1249, KL: 41.2171\n"
     ]
    },
    {
     "name": "stderr",
     "output_type": "stream",
     "text": [
      "100%|██████████| 3166/3166 [07:04<00:00,  7.45it/s]\n",
      " 95%|█████████▍| 3002/3166 [06:48<00:20,  7.84it/s]"
     ]
    },
    {
     "name": "stdout",
     "output_type": "stream",
     "text": [
      "Epoch [53/200], Step [52/3166], Total Loss: 3.1003, L1: 0.1134, Perceptual: 26.1807, KL: 36.8820\n"
     ]
    },
    {
     "name": "stderr",
     "output_type": "stream",
     "text": [
      "100%|██████████| 3166/3166 [07:10<00:00,  7.35it/s]\n",
      " 95%|█████████▍| 3002/3166 [06:43<00:20,  8.04it/s]"
     ]
    },
    {
     "name": "stdout",
     "output_type": "stream",
     "text": [
      "Epoch [54/200], Step [53/3166], Total Loss: 3.1097, L1: 0.1161, Perceptual: 26.3963, KL: 35.3922\n"
     ]
    },
    {
     "name": "stderr",
     "output_type": "stream",
     "text": [
      "100%|██████████| 3166/3166 [07:05<00:00,  7.44it/s]\n",
      " 95%|█████████▍| 3002/3166 [06:44<00:20,  7.98it/s]"
     ]
    },
    {
     "name": "stdout",
     "output_type": "stream",
     "text": [
      "Epoch [55/200], Step [54/3166], Total Loss: 3.0031, L1: 0.1137, Perceptual: 25.6187, KL: 32.7496\n"
     ]
    },
    {
     "name": "stderr",
     "output_type": "stream",
     "text": [
      "100%|██████████| 3166/3166 [07:06<00:00,  7.42it/s]\n",
      " 95%|█████████▍| 3002/3166 [06:39<00:20,  8.09it/s]"
     ]
    },
    {
     "name": "stdout",
     "output_type": "stream",
     "text": [
      "Epoch [56/200], Step [55/3166], Total Loss: 3.1241, L1: 0.1146, Perceptual: 26.5846, KL: 35.1018\n"
     ]
    },
    {
     "name": "stderr",
     "output_type": "stream",
     "text": [
      "100%|██████████| 3166/3166 [07:01<00:00,  7.51it/s]\n",
      " 95%|█████████▍| 3002/3166 [06:42<00:20,  8.02it/s]"
     ]
    },
    {
     "name": "stdout",
     "output_type": "stream",
     "text": [
      "Epoch [57/200], Step [56/3166], Total Loss: 2.9251, L1: 0.1122, Perceptual: 24.7491, KL: 33.7983\n"
     ]
    },
    {
     "name": "stderr",
     "output_type": "stream",
     "text": [
      "100%|██████████| 3166/3166 [07:04<00:00,  7.46it/s]\n",
      " 95%|█████████▍| 3002/3166 [06:39<00:20,  8.08it/s]"
     ]
    },
    {
     "name": "stdout",
     "output_type": "stream",
     "text": [
      "Epoch [58/200], Step [57/3166], Total Loss: 3.0550, L1: 0.1122, Perceptual: 26.0212, KL: 34.0651\n"
     ]
    },
    {
     "name": "stderr",
     "output_type": "stream",
     "text": [
      "100%|██████████| 3166/3166 [07:01<00:00,  7.50it/s]\n",
      " 95%|█████████▍| 3002/3166 [06:40<00:20,  8.05it/s]"
     ]
    },
    {
     "name": "stdout",
     "output_type": "stream",
     "text": [
      "Epoch [59/200], Step [58/3166], Total Loss: 2.8185, L1: 0.1065, Perceptual: 23.4940, KL: 36.2581\n"
     ]
    },
    {
     "name": "stderr",
     "output_type": "stream",
     "text": [
      "100%|██████████| 3166/3166 [07:02<00:00,  7.50it/s]\n",
      " 95%|█████████▍| 3002/3166 [06:41<00:19,  8.21it/s]"
     ]
    },
    {
     "name": "stdout",
     "output_type": "stream",
     "text": [
      "Epoch [60/200], Step [59/3166], Total Loss: 3.0553, L1: 0.1170, Perceptual: 26.0064, KL: 33.7709\n"
     ]
    },
    {
     "name": "stderr",
     "output_type": "stream",
     "text": [
      "100%|██████████| 3166/3166 [07:03<00:00,  7.48it/s]\n",
      " 95%|█████████▍| 3002/3166 [06:40<00:20,  8.07it/s]"
     ]
    },
    {
     "name": "stdout",
     "output_type": "stream",
     "text": [
      "Epoch [61/200], Step [60/3166], Total Loss: 2.8850, L1: 0.1095, Perceptual: 24.3369, KL: 34.1719\n"
     ]
    },
    {
     "name": "stderr",
     "output_type": "stream",
     "text": [
      "100%|██████████| 3166/3166 [07:02<00:00,  7.49it/s]\n",
      " 95%|█████████▍| 3002/3166 [06:39<00:20,  8.12it/s]"
     ]
    },
    {
     "name": "stdout",
     "output_type": "stream",
     "text": [
      "Epoch [62/200], Step [61/3166], Total Loss: 2.8143, L1: 0.1077, Perceptual: 23.7443, KL: 33.2176\n"
     ]
    },
    {
     "name": "stderr",
     "output_type": "stream",
     "text": [
      "100%|██████████| 3166/3166 [07:02<00:00,  7.50it/s]\n",
      " 95%|█████████▍| 3002/3166 [06:41<00:20,  8.08it/s]"
     ]
    },
    {
     "name": "stdout",
     "output_type": "stream",
     "text": [
      "Epoch [63/200], Step [62/3166], Total Loss: 2.8559, L1: 0.1086, Perceptual: 23.8554, KL: 36.1757\n"
     ]
    },
    {
     "name": "stderr",
     "output_type": "stream",
     "text": [
      "100%|██████████| 3166/3166 [07:03<00:00,  7.47it/s]\n",
      " 95%|█████████▍| 3002/3166 [06:39<00:20,  8.14it/s]"
     ]
    },
    {
     "name": "stdout",
     "output_type": "stream",
     "text": [
      "Epoch [64/200], Step [63/3166], Total Loss: 2.8495, L1: 0.1103, Perceptual: 23.9267, KL: 34.6469\n"
     ]
    },
    {
     "name": "stderr",
     "output_type": "stream",
     "text": [
      "100%|██████████| 3166/3166 [07:01<00:00,  7.52it/s]\n",
      " 95%|█████████▍| 3002/3166 [06:41<00:20,  8.05it/s]"
     ]
    },
    {
     "name": "stdout",
     "output_type": "stream",
     "text": [
      "Epoch [65/200], Step [64/3166], Total Loss: 2.9684, L1: 0.1102, Perceptual: 25.0890, KL: 34.9287\n"
     ]
    },
    {
     "name": "stderr",
     "output_type": "stream",
     "text": [
      "100%|██████████| 3166/3166 [07:04<00:00,  7.47it/s]\n",
      " 95%|█████████▍| 3002/3166 [06:39<00:20,  8.10it/s]"
     ]
    },
    {
     "name": "stdout",
     "output_type": "stream",
     "text": [
      "Epoch [66/200], Step [65/3166], Total Loss: 2.6627, L1: 0.0987, Perceptual: 22.2269, KL: 34.1268\n"
     ]
    },
    {
     "name": "stderr",
     "output_type": "stream",
     "text": [
      "100%|██████████| 3166/3166 [07:01<00:00,  7.50it/s]\n",
      " 95%|█████████▍| 3002/3166 [06:42<00:20,  8.05it/s]"
     ]
    },
    {
     "name": "stdout",
     "output_type": "stream",
     "text": [
      "Epoch [67/200], Step [66/3166], Total Loss: 2.7655, L1: 0.1056, Perceptual: 22.9924, KL: 36.0633\n"
     ]
    },
    {
     "name": "stderr",
     "output_type": "stream",
     "text": [
      "100%|██████████| 3166/3166 [07:04<00:00,  7.46it/s]\n",
      " 95%|█████████▍| 3002/3166 [06:39<00:20,  8.10it/s]"
     ]
    },
    {
     "name": "stdout",
     "output_type": "stream",
     "text": [
      "Epoch [68/200], Step [67/3166], Total Loss: 2.9364, L1: 0.1119, Perceptual: 24.6887, KL: 35.5623\n"
     ]
    },
    {
     "name": "stderr",
     "output_type": "stream",
     "text": [
      "100%|██████████| 3166/3166 [07:01<00:00,  7.52it/s]\n",
      " 95%|█████████▍| 3002/3166 [06:41<00:20,  8.03it/s]"
     ]
    },
    {
     "name": "stdout",
     "output_type": "stream",
     "text": [
      "Epoch [69/200], Step [68/3166], Total Loss: 2.7881, L1: 0.1030, Perceptual: 23.4107, KL: 34.4035\n"
     ]
    },
    {
     "name": "stderr",
     "output_type": "stream",
     "text": [
      "100%|██████████| 3166/3166 [07:03<00:00,  7.48it/s]\n",
      " 95%|█████████▍| 3002/3166 [06:43<00:20,  8.04it/s]"
     ]
    },
    {
     "name": "stdout",
     "output_type": "stream",
     "text": [
      "Epoch [70/200], Step [69/3166], Total Loss: 2.7553, L1: 0.1080, Perceptual: 22.8435, KL: 36.2978\n"
     ]
    },
    {
     "name": "stderr",
     "output_type": "stream",
     "text": [
      "100%|██████████| 3166/3166 [07:05<00:00,  7.45it/s]\n",
      " 95%|█████████▍| 3002/3166 [06:40<00:20,  8.02it/s]"
     ]
    },
    {
     "name": "stdout",
     "output_type": "stream",
     "text": [
      "Epoch [71/200], Step [70/3166], Total Loss: 2.8206, L1: 0.1076, Perceptual: 23.6765, KL: 34.5400\n"
     ]
    },
    {
     "name": "stderr",
     "output_type": "stream",
     "text": [
      "100%|██████████| 3166/3166 [07:02<00:00,  7.49it/s]\n",
      " 95%|█████████▍| 3002/3166 [06:42<00:20,  8.09it/s]"
     ]
    },
    {
     "name": "stdout",
     "output_type": "stream",
     "text": [
      "Epoch [72/200], Step [71/3166], Total Loss: 2.6848, L1: 0.1075, Perceptual: 22.3029, KL: 34.6996\n"
     ]
    },
    {
     "name": "stderr",
     "output_type": "stream",
     "text": [
      "100%|██████████| 3166/3166 [07:04<00:00,  7.47it/s]\n",
      " 95%|█████████▍| 3002/3166 [06:41<00:20,  8.07it/s]"
     ]
    },
    {
     "name": "stdout",
     "output_type": "stream",
     "text": [
      "Epoch [73/200], Step [72/3166], Total Loss: 2.8178, L1: 0.1025, Perceptual: 23.6206, KL: 35.3233\n"
     ]
    },
    {
     "name": "stderr",
     "output_type": "stream",
     "text": [
      "100%|██████████| 3166/3166 [07:03<00:00,  7.48it/s]\n",
      " 95%|█████████▍| 3002/3166 [06:43<00:21,  7.74it/s]"
     ]
    },
    {
     "name": "stdout",
     "output_type": "stream",
     "text": [
      "Epoch [74/200], Step [73/3166], Total Loss: 2.9026, L1: 0.1098, Perceptual: 24.4550, KL: 34.7233\n"
     ]
    },
    {
     "name": "stderr",
     "output_type": "stream",
     "text": [
      "100%|██████████| 3166/3166 [07:06<00:00,  7.43it/s]\n",
      " 95%|█████████▍| 3002/3166 [06:41<00:20,  7.97it/s]"
     ]
    },
    {
     "name": "stdout",
     "output_type": "stream",
     "text": [
      "Epoch [75/200], Step [74/3166], Total Loss: 2.8174, L1: 0.1067, Perceptual: 23.2899, KL: 38.1613\n"
     ]
    },
    {
     "name": "stderr",
     "output_type": "stream",
     "text": [
      "100%|██████████| 3166/3166 [07:03<00:00,  7.47it/s]\n",
      " 95%|█████████▍| 3000/3166 [08:45<00:37,  4.43it/s]"
     ]
    },
    {
     "name": "stdout",
     "output_type": "stream",
     "text": [
      "Epoch [76/200], Step [75/3166], Total Loss: 2.7291, L1: 0.1039, Perceptual: 22.6685, KL: 35.8428\n"
     ]
    },
    {
     "name": "stderr",
     "output_type": "stream",
     "text": [
      "100%|██████████| 3166/3166 [09:16<00:00,  5.68it/s]\n",
      " 95%|█████████▍| 3002/3166 [07:00<00:20,  7.85it/s]"
     ]
    },
    {
     "name": "stdout",
     "output_type": "stream",
     "text": [
      "Epoch [77/200], Step [76/3166], Total Loss: 2.7833, L1: 0.1073, Perceptual: 22.9867, KL: 37.7396\n"
     ]
    },
    {
     "name": "stderr",
     "output_type": "stream",
     "text": [
      "100%|██████████| 3166/3166 [07:23<00:00,  7.14it/s]\n",
      " 95%|█████████▍| 3002/3166 [06:42<00:20,  8.12it/s]"
     ]
    },
    {
     "name": "stdout",
     "output_type": "stream",
     "text": [
      "Epoch [78/200], Step [77/3166], Total Loss: 2.7703, L1: 0.1067, Perceptual: 23.1654, KL: 34.7050\n"
     ]
    },
    {
     "name": "stderr",
     "output_type": "stream",
     "text": [
      "100%|██████████| 3166/3166 [07:05<00:00,  7.44it/s]\n",
      " 95%|█████████▍| 3002/3166 [06:42<00:20,  8.07it/s]"
     ]
    },
    {
     "name": "stdout",
     "output_type": "stream",
     "text": [
      "Epoch [79/200], Step [78/3166], Total Loss: 2.6907, L1: 0.1027, Perceptual: 22.1834, KL: 36.9696\n"
     ]
    },
    {
     "name": "stderr",
     "output_type": "stream",
     "text": [
      "100%|██████████| 3166/3166 [07:04<00:00,  7.45it/s]\n",
      " 95%|█████████▍| 3002/3166 [06:39<00:20,  8.15it/s]"
     ]
    },
    {
     "name": "stdout",
     "output_type": "stream",
     "text": [
      "Epoch [80/200], Step [79/3166], Total Loss: 2.7129, L1: 0.1055, Perceptual: 22.6130, KL: 34.6086\n"
     ]
    },
    {
     "name": "stderr",
     "output_type": "stream",
     "text": [
      "100%|██████████| 3166/3166 [07:01<00:00,  7.51it/s]\n",
      " 95%|█████████▍| 3002/3166 [06:39<00:19,  8.20it/s]"
     ]
    },
    {
     "name": "stdout",
     "output_type": "stream",
     "text": [
      "Epoch [81/200], Step [80/3166], Total Loss: 2.6871, L1: 0.1038, Perceptual: 22.2024, KL: 36.3099\n"
     ]
    },
    {
     "name": "stderr",
     "output_type": "stream",
     "text": [
      "100%|██████████| 3166/3166 [07:01<00:00,  7.51it/s]\n",
      " 95%|█████████▍| 3002/3166 [06:39<00:20,  8.14it/s]"
     ]
    },
    {
     "name": "stdout",
     "output_type": "stream",
     "text": [
      "Epoch [82/200], Step [81/3166], Total Loss: 2.7861, L1: 0.1119, Perceptual: 23.2960, KL: 34.4657\n"
     ]
    },
    {
     "name": "stderr",
     "output_type": "stream",
     "text": [
      "100%|██████████| 3166/3166 [07:00<00:00,  7.52it/s]\n",
      " 95%|█████████▍| 3002/3166 [06:40<00:20,  8.11it/s]"
     ]
    },
    {
     "name": "stdout",
     "output_type": "stream",
     "text": [
      "Epoch [83/200], Step [82/3166], Total Loss: 2.7661, L1: 0.1041, Perceptual: 22.9383, KL: 36.8173\n"
     ]
    },
    {
     "name": "stderr",
     "output_type": "stream",
     "text": [
      "100%|██████████| 3166/3166 [07:02<00:00,  7.50it/s]\n",
      " 95%|█████████▍| 3002/3166 [06:40<00:20,  7.99it/s]"
     ]
    },
    {
     "name": "stdout",
     "output_type": "stream",
     "text": [
      "Epoch [84/200], Step [83/3166], Total Loss: 2.8251, L1: 0.1078, Perceptual: 23.5839, KL: 35.8950\n"
     ]
    },
    {
     "name": "stderr",
     "output_type": "stream",
     "text": [
      "100%|██████████| 3166/3166 [07:02<00:00,  7.49it/s]\n",
      " 95%|█████████▍| 3002/3166 [06:41<00:20,  8.03it/s]"
     ]
    },
    {
     "name": "stdout",
     "output_type": "stream",
     "text": [
      "Epoch [85/200], Step [84/3166], Total Loss: 2.7018, L1: 0.1048, Perceptual: 22.2717, KL: 36.9833\n"
     ]
    },
    {
     "name": "stderr",
     "output_type": "stream",
     "text": [
      "100%|██████████| 3166/3166 [07:03<00:00,  7.47it/s]\n",
      " 95%|█████████▍| 3002/3166 [06:40<00:20,  8.10it/s]"
     ]
    },
    {
     "name": "stdout",
     "output_type": "stream",
     "text": [
      "Epoch [86/200], Step [85/3166], Total Loss: 2.7193, L1: 0.1040, Perceptual: 22.5674, KL: 35.8514\n"
     ]
    },
    {
     "name": "stderr",
     "output_type": "stream",
     "text": [
      "100%|██████████| 3166/3166 [07:02<00:00,  7.49it/s]\n",
      " 95%|█████████▍| 3002/3166 [06:42<00:20,  8.08it/s]"
     ]
    },
    {
     "name": "stdout",
     "output_type": "stream",
     "text": [
      "Epoch [87/200], Step [86/3166], Total Loss: 2.6970, L1: 0.1041, Perceptual: 22.4155, KL: 35.1286\n"
     ]
    },
    {
     "name": "stderr",
     "output_type": "stream",
     "text": [
      "100%|██████████| 3166/3166 [07:04<00:00,  7.46it/s]\n",
      " 95%|█████████▍| 3002/3166 [06:40<00:20,  8.07it/s]"
     ]
    },
    {
     "name": "stdout",
     "output_type": "stream",
     "text": [
      "Epoch [88/200], Step [87/3166], Total Loss: 2.7732, L1: 0.1047, Perceptual: 22.8894, KL: 37.9510\n"
     ]
    },
    {
     "name": "stderr",
     "output_type": "stream",
     "text": [
      "100%|██████████| 3166/3166 [07:02<00:00,  7.50it/s]\n",
      " 95%|█████████▍| 3002/3166 [06:42<00:20,  8.16it/s]"
     ]
    },
    {
     "name": "stdout",
     "output_type": "stream",
     "text": [
      "Epoch [89/200], Step [88/3166], Total Loss: 2.7877, L1: 0.1043, Perceptual: 23.1175, KL: 37.1617\n"
     ]
    },
    {
     "name": "stderr",
     "output_type": "stream",
     "text": [
      "100%|██████████| 3166/3166 [07:04<00:00,  7.46it/s]\n",
      " 95%|█████████▍| 3002/3166 [06:40<00:20,  8.05it/s]"
     ]
    },
    {
     "name": "stdout",
     "output_type": "stream",
     "text": [
      "Epoch [90/200], Step [89/3166], Total Loss: 2.6414, L1: 0.1029, Perceptual: 21.8096, KL: 35.7543\n"
     ]
    },
    {
     "name": "stderr",
     "output_type": "stream",
     "text": [
      "100%|██████████| 3166/3166 [07:02<00:00,  7.49it/s]\n",
      " 95%|█████████▍| 3002/3166 [06:40<00:20,  8.14it/s]"
     ]
    },
    {
     "name": "stdout",
     "output_type": "stream",
     "text": [
      "Epoch [91/200], Step [90/3166], Total Loss: 2.9924, L1: 0.1140, Perceptual: 25.1511, KL: 36.3248\n"
     ]
    },
    {
     "name": "stderr",
     "output_type": "stream",
     "text": [
      "100%|██████████| 3166/3166 [07:02<00:00,  7.49it/s]\n",
      " 95%|█████████▍| 3002/3166 [06:39<00:20,  8.10it/s]"
     ]
    },
    {
     "name": "stdout",
     "output_type": "stream",
     "text": [
      "Epoch [92/200], Step [91/3166], Total Loss: 2.7191, L1: 0.1037, Perceptual: 22.4742, KL: 36.8014\n"
     ]
    },
    {
     "name": "stderr",
     "output_type": "stream",
     "text": [
      "100%|██████████| 3166/3166 [07:01<00:00,  7.52it/s]\n",
      " 95%|█████████▍| 3002/3166 [06:40<00:20,  8.09it/s]"
     ]
    },
    {
     "name": "stdout",
     "output_type": "stream",
     "text": [
      "Epoch [93/200], Step [92/3166], Total Loss: 2.6199, L1: 0.1018, Perceptual: 21.7163, KL: 34.6554\n"
     ]
    },
    {
     "name": "stderr",
     "output_type": "stream",
     "text": [
      "100%|██████████| 3166/3166 [07:02<00:00,  7.50it/s]\n",
      " 95%|█████████▍| 3002/3166 [06:40<00:21,  7.56it/s]"
     ]
    },
    {
     "name": "stdout",
     "output_type": "stream",
     "text": [
      "Epoch [94/200], Step [93/3166], Total Loss: 2.9319, L1: 0.1100, Perceptual: 24.6081, KL: 36.1064\n"
     ]
    },
    {
     "name": "stderr",
     "output_type": "stream",
     "text": [
      "100%|██████████| 3166/3166 [07:02<00:00,  7.49it/s]\n",
      " 95%|█████████▍| 3002/3166 [06:41<00:20,  7.98it/s]"
     ]
    },
    {
     "name": "stdout",
     "output_type": "stream",
     "text": [
      "Epoch [95/200], Step [94/3166], Total Loss: 2.7314, L1: 0.1049, Perceptual: 22.7773, KL: 34.8796\n"
     ]
    },
    {
     "name": "stderr",
     "output_type": "stream",
     "text": [
      "100%|██████████| 3166/3166 [07:03<00:00,  7.47it/s]\n",
      " 95%|█████████▍| 3002/3166 [06:42<00:20,  8.06it/s]"
     ]
    },
    {
     "name": "stdout",
     "output_type": "stream",
     "text": [
      "Epoch [96/200], Step [95/3166], Total Loss: 2.7943, L1: 0.1066, Perceptual: 23.2951, KL: 35.8264\n"
     ]
    },
    {
     "name": "stderr",
     "output_type": "stream",
     "text": [
      "100%|██████████| 3166/3166 [07:04<00:00,  7.46it/s]\n",
      " 95%|█████████▍| 3002/3166 [06:41<00:20,  8.08it/s]"
     ]
    },
    {
     "name": "stdout",
     "output_type": "stream",
     "text": [
      "Epoch [97/200], Step [96/3166], Total Loss: 2.8015, L1: 0.1030, Perceptual: 23.4017, KL: 35.8266\n"
     ]
    },
    {
     "name": "stderr",
     "output_type": "stream",
     "text": [
      "100%|██████████| 3166/3166 [07:03<00:00,  7.47it/s]\n",
      " 95%|█████████▍| 3002/3166 [06:40<00:20,  8.11it/s]"
     ]
    },
    {
     "name": "stdout",
     "output_type": "stream",
     "text": [
      "Epoch [98/200], Step [97/3166], Total Loss: 2.6827, L1: 0.1023, Perceptual: 22.0305, KL: 37.7412\n"
     ]
    },
    {
     "name": "stderr",
     "output_type": "stream",
     "text": [
      "100%|██████████| 3166/3166 [07:02<00:00,  7.49it/s]\n",
      " 95%|█████████▍| 3002/3166 [06:42<00:20,  8.08it/s]"
     ]
    },
    {
     "name": "stdout",
     "output_type": "stream",
     "text": [
      "Epoch [99/200], Step [98/3166], Total Loss: 2.7748, L1: 0.1063, Perceptual: 23.0315, KL: 36.5349\n"
     ]
    },
    {
     "name": "stderr",
     "output_type": "stream",
     "text": [
      "100%|██████████| 3166/3166 [07:04<00:00,  7.46it/s]\n",
      " 95%|█████████▍| 3002/3166 [06:44<00:20,  8.04it/s]"
     ]
    },
    {
     "name": "stdout",
     "output_type": "stream",
     "text": [
      "Epoch [100/200], Step [99/3166], Total Loss: 2.7238, L1: 0.1070, Perceptual: 22.5224, KL: 36.4531\n"
     ]
    },
    {
     "name": "stderr",
     "output_type": "stream",
     "text": [
      "100%|██████████| 3166/3166 [07:07<00:00,  7.41it/s]\n",
      " 95%|█████████▍| 3002/3166 [06:40<00:20,  8.03it/s]"
     ]
    },
    {
     "name": "stdout",
     "output_type": "stream",
     "text": [
      "Epoch [101/200], Step [100/3166], Total Loss: 2.5393, L1: 0.0980, Perceptual: 20.8441, KL: 35.6866\n"
     ]
    },
    {
     "name": "stderr",
     "output_type": "stream",
     "text": [
      "100%|██████████| 3166/3166 [07:02<00:00,  7.50it/s]\n"
     ]
    },
    {
     "name": "stdout",
     "output_type": "stream",
     "text": [
      "Saved checkpoint: ./experiments/checkpoints\\vae_checkpoint_epoch_100.pt\n"
     ]
    },
    {
     "name": "stderr",
     "output_type": "stream",
     "text": [
      " 95%|█████████▍| 3002/3166 [06:53<00:20,  7.86it/s]"
     ]
    },
    {
     "name": "stdout",
     "output_type": "stream",
     "text": [
      "Epoch [102/200], Step [101/3166], Total Loss: 2.6884, L1: 0.1082, Perceptual: 22.2029, KL: 35.9883\n"
     ]
    },
    {
     "name": "stderr",
     "output_type": "stream",
     "text": [
      "100%|██████████| 3166/3166 [07:17<00:00,  7.24it/s]\n",
      " 95%|█████████▍| 3002/3166 [06:50<00:20,  7.89it/s]"
     ]
    },
    {
     "name": "stdout",
     "output_type": "stream",
     "text": [
      "Epoch [103/200], Step [102/3166], Total Loss: 2.7936, L1: 0.1051, Perceptual: 23.1849, KL: 37.0026\n"
     ]
    },
    {
     "name": "stderr",
     "output_type": "stream",
     "text": [
      "100%|██████████| 3166/3166 [07:13<00:00,  7.30it/s]\n",
      " 95%|█████████▍| 3002/3166 [06:52<00:20,  7.85it/s]"
     ]
    },
    {
     "name": "stdout",
     "output_type": "stream",
     "text": [
      "Epoch [104/200], Step [103/3166], Total Loss: 2.8089, L1: 0.1086, Perceptual: 23.3697, KL: 36.3362\n"
     ]
    },
    {
     "name": "stderr",
     "output_type": "stream",
     "text": [
      "100%|██████████| 3166/3166 [07:15<00:00,  7.27it/s]\n",
      " 95%|█████████▍| 3002/3166 [06:54<00:21,  7.79it/s]"
     ]
    },
    {
     "name": "stdout",
     "output_type": "stream",
     "text": [
      "Epoch [105/200], Step [104/3166], Total Loss: 2.8108, L1: 0.1066, Perceptual: 23.3867, KL: 36.5520\n"
     ]
    },
    {
     "name": "stderr",
     "output_type": "stream",
     "text": [
      "100%|██████████| 3166/3166 [07:17<00:00,  7.24it/s]\n",
      " 95%|█████████▍| 3002/3166 [07:08<00:21,  7.50it/s]"
     ]
    },
    {
     "name": "stdout",
     "output_type": "stream",
     "text": [
      "Epoch [106/200], Step [105/3166], Total Loss: 2.6828, L1: 0.1035, Perceptual: 22.0212, KL: 37.7165\n"
     ]
    },
    {
     "name": "stderr",
     "output_type": "stream",
     "text": [
      "100%|██████████| 3166/3166 [07:32<00:00,  7.00it/s]\n",
      " 95%|█████████▍| 3002/3166 [07:06<00:21,  7.55it/s]"
     ]
    },
    {
     "name": "stdout",
     "output_type": "stream",
     "text": [
      "Epoch [107/200], Step [106/3166], Total Loss: 2.7350, L1: 0.1080, Perceptual: 22.5878, KL: 36.8230\n"
     ]
    },
    {
     "name": "stderr",
     "output_type": "stream",
     "text": [
      "100%|██████████| 3166/3166 [07:30<00:00,  7.03it/s]\n",
      " 42%|████▏     | 1320/3166 [03:12<04:30,  6.82it/s]"
     ]
    }
   ],
   "execution_count": null
  }
 ],
 "metadata": {
  "kernelspec": {
   "display_name": "Python 3",
   "language": "python",
   "name": "python3"
  },
  "language_info": {
   "codemirror_mode": {
    "name": "ipython",
    "version": 2
   },
   "file_extension": ".py",
   "mimetype": "text/x-python",
   "name": "python",
   "nbconvert_exporter": "python",
   "pygments_lexer": "ipython2",
   "version": "2.7.6"
  },
  "colab": {
   "provenance": []
  }
 },
 "nbformat": 4,
 "nbformat_minor": 5
}
